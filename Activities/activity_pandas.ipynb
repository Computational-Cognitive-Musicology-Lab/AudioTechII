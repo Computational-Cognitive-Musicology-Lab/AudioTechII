{
 "cells": [
  {
   "cell_type": "markdown",
   "id": "c298770b",
   "metadata": {},
   "source": [
    "### Practice with pandas Series and Dataframes\n",
    "\n",
    "#### Making Data & Converting arrays to Series\n",
    "Let's practice taking some `numpy` arrays and converting them to Series and Dataframe objects."
   ]
  },
  {
   "cell_type": "markdown",
   "id": "2e3bdafb",
   "metadata": {},
   "source": [
    "1. a) Make a numpy array from 2 to 20 with only even numbers.  \n",
    "b) Make another numpy array from 1 to 19 with only odd numbers.  \n",
    "c) Wrap each array in a pandas.Series() function to make it a Series object.  "
   ]
  },
  {
   "cell_type": "code",
   "execution_count": null,
   "id": "37e1a9b6",
   "metadata": {},
   "outputs": [],
   "source": [
    "# Pause and try it"
   ]
  },
  {
   "cell_type": "markdown",
   "id": "9770bcae",
   "metadata": {},
   "source": [
    "2. Use `np.vstack()` to combine (a) and (b) above into a multidimensional array "
   ]
  },
  {
   "cell_type": "code",
   "execution_count": null,
   "id": "b812d3bd",
   "metadata": {},
   "outputs": [],
   "source": [
    "# stack 2 numpy arrays to 2d array"
   ]
  },
  {
   "cell_type": "markdown",
   "id": "645752d7",
   "metadata": {},
   "source": [
    "3. transpose the array (i.e., rotate so that columns become rows)"
   ]
  },
  {
   "cell_type": "code",
   "execution_count": null,
   "id": "029fc2ea",
   "metadata": {},
   "outputs": [],
   "source": [
    "# transpose array with the array object's transpose() method "
   ]
  },
  {
   "cell_type": "markdown",
   "id": "a1c114aa",
   "metadata": {},
   "source": [
    "4. pass your 2d array to a pandas Dataframe function to create a dataframe. Give it a name and save it as a variable."
   ]
  },
  {
   "cell_type": "code",
   "execution_count": null,
   "id": "83825724",
   "metadata": {},
   "outputs": [],
   "source": [
    "# create dataframe"
   ]
  },
  {
   "cell_type": "markdown",
   "id": "2a2482bd",
   "metadata": {},
   "source": [
    "5. Name your columns. Call them \"odd\" and \"even\""
   ]
  },
  {
   "cell_type": "code",
   "execution_count": null,
   "id": "5f28c776",
   "metadata": {},
   "outputs": [],
   "source": [
    "# name the columns with the .columns() method (remember to make it a list!)"
   ]
  },
  {
   "cell_type": "markdown",
   "id": "b86d0ec3",
   "metadata": {},
   "source": [
    "#### Read in existing data from a .csv file\n",
    "\n",
    "Let's practice creating a `pandas` object directly through loading a .csv object. Let's open the file: \"weather.csv\" from the \"Datasets\" folder"
   ]
  },
  {
   "cell_type": "code",
   "execution_count": null,
   "id": "35493d7e",
   "metadata": {},
   "outputs": [],
   "source": [
    "# load data with the `pandas.read_csv()` function.\n",
    "import pandas as pd\n",
    "\n",
    "df = pd.read_csv('../Datasets/weather.csv')"
   ]
  },
  {
   "cell_type": "markdown",
   "id": "363a41e4",
   "metadata": {},
   "source": [
    "6. look at the uniqe list of city names from the city column with the `unique()` method"
   ]
  },
  {
   "cell_type": "code",
   "execution_count": null,
   "id": "68af137e",
   "metadata": {},
   "outputs": [],
   "source": [
    "# how many different cities in the dataframe"
   ]
  },
  {
   "cell_type": "markdown",
   "id": "8117e10c",
   "metadata": {},
   "source": [
    "7. Count up how many data observations for each city (i.e., how many rows does each unique city name repeat?) Usew the `value_counts()` method"
   ]
  },
  {
   "cell_type": "code",
   "execution_count": null,
   "id": "04a2fa91",
   "metadata": {},
   "outputs": [],
   "source": [
    "# what are the count values for each city?\n",
    "df.head()"
   ]
  },
  {
   "cell_type": "markdown",
   "id": "d3abf989",
   "metadata": {},
   "source": [
    "8. Calculate the mean and standard deviation of the `avg_temp` column using the `.mean()` and `.std()` methods"
   ]
  },
  {
   "cell_type": "code",
   "execution_count": null,
   "id": "b62fc969",
   "metadata": {},
   "outputs": [],
   "source": [
    "# "
   ]
  },
  {
   "cell_type": "markdown",
   "id": "cb671a97",
   "metadata": {},
   "source": [
    "#### Plotting\n",
    "\n",
    "Basic plotting can be done right from your pandas dataframe object if you just want a simple graph:\n",
    "\n",
    "| Plot Type       | Usage                            | Description / Example Use        |\n",
    "|------------------|----------------------------------|-----------------------------------|\n",
    "| **Line**         | `.plot()` or `.plot.line()`     | Default for time series / trends |\n",
    "| **Bar**          | `.plot.bar()`                   | Vertical bar plot                |\n",
    "| **Histogram**    | `.plot.hist()`                  | Distribution of values           |\n",
    "| **Box**          | `.plot.box()`                   | Box-and-whisker plot             |\n",
    "| **Scatter**      | `.plot.scatter(x='x', y='y')`   | Requires `x` and `y`             |\n"
   ]
  },
  {
   "cell_type": "markdown",
   "id": "71bf5d7c",
   "metadata": {},
   "source": [
    "9. Make a line plot (across all data) with the high temp in red and the low temp in blue"
   ]
  },
  {
   "cell_type": "code",
   "execution_count": null,
   "id": "9cfd2826",
   "metadata": {},
   "outputs": [],
   "source": [
    "# First, select only the two columns you care about:\n",
    "\n",
    "subset = df[['high_temp', 'low_temp']]\n",
    "\n",
    "# plot them with colors\n",
    "subset.plot(color=['red', 'blue'])\n",
    "\n",
    "# if you want to set a title, you have to save the plot as a variable (\"ax\" is common) and then apply a title, like this:\n",
    "\n",
    "ax = subset.plot(color=['red', 'blue'])\n",
    "ax.set_title(\"High and Low Annual temperatures\")\n"
   ]
  },
  {
   "cell_type": "code",
   "execution_count": null,
   "id": "f7caa92d",
   "metadata": {},
   "outputs": [],
   "source": [
    "# Let's instead try a \"range\" or \"lolipop\" plot where we plot the *distance* between the low and high temp for each row\n",
    "# For more sophisticated plots like this we need matplotlib, we can simply pass the series directly to matplot library:\n",
    "import matplotlib.pyplot as plt\n",
    "\n",
    "# Plot the points (as before) with red and blue:\n",
    "x = df.index # these are the row numbers!\n",
    "\n",
    "# Set the figure size to widen it:\n",
    "plt.figure(figsize = (14, 6))\n",
    "\n",
    "plt.scatter(x, df['high_temp'], color='red', label='High Temp')\n",
    "plt.scatter(x, df['low_temp'], color='blue', label='Low Temp')\n",
    "\n",
    "# Next draw vertical lines between the points with `plt.vlines(x, y1, y2)`\n",
    "plt.vlines(x, df['low_temp'], df['high_temp'], color='purple', alpha=0.6)\n"
   ]
  },
  {
   "cell_type": "markdown",
   "id": "3fa36926",
   "metadata": {},
   "source": [
    "10. Make a new column of made up data to add to the weather dataframe. Let's call it \"predicted_weather\"\n",
    "Using the values from the \"events\" column, let us randomly select values and put them in our new column. (You will not be making up data but you do need to know how to take a Series or array and \"paste\" it into an existing dataframe."
   ]
  },
  {
   "cell_type": "code",
   "execution_count": null,
   "id": "9a51ffed",
   "metadata": {},
   "outputs": [],
   "source": [
    "df.events.unique() # note some are lists..."
   ]
  },
  {
   "cell_type": "code",
   "execution_count": null,
   "id": "985de51b",
   "metadata": {},
   "outputs": [],
   "source": [
    "# save a list variable returning some single events from the \"events\" column\n",
    "unique_weather = [\"Rain\",\"Fog\", \"Hail\", \"Snow\", \"Thunderstorm\"]"
   ]
  },
  {
   "cell_type": "code",
   "execution_count": null,
   "id": "be181836",
   "metadata": {},
   "outputs": [],
   "source": [
    "# use numpy's `random.choice()` function to randomly select from your variable. \n",
    "import numpy as np\n",
    "newcoldata = np.random.choice(unique_weather, size = len(df))\n",
    "\n",
    "# add the newcoldata as a new column of data into your existing dataframe:\n",
    "df['predicted_weather'] = newcoldata"
   ]
  },
  {
   "cell_type": "markdown",
   "id": "4590984b",
   "metadata": {},
   "source": [
    "11. Make a cross-tabulation (confusion matrix) for categorical variables using the `pd.crosstab()` function. Let us look at where our \"events\" matches our \"predicted weather\""
   ]
  },
  {
   "cell_type": "code",
   "execution_count": null,
   "id": "0436ffa3",
   "metadata": {},
   "outputs": [],
   "source": [
    "# replace my variables with the appropriate column names to compute the cross tabulation\n",
    "pd.crosstab(column1, column2)"
   ]
  },
  {
   "cell_type": "code",
   "execution_count": null,
   "id": "a7eb50ab",
   "metadata": {},
   "outputs": [],
   "source": []
  }
 ],
 "metadata": {
  "kernelspec": {
   "display_name": "Python 3 (ipykernel)",
   "language": "python",
   "name": "python3"
  },
  "language_info": {
   "codemirror_mode": {
    "name": "ipython",
    "version": 3
   },
   "file_extension": ".py",
   "mimetype": "text/x-python",
   "name": "python",
   "nbconvert_exporter": "python",
   "pygments_lexer": "ipython3",
   "version": "3.10.10"
  }
 },
 "nbformat": 4,
 "nbformat_minor": 5
}
