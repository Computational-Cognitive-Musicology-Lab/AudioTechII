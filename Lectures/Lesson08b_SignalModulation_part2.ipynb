{
 "cells": [
  {
   "cell_type": "code",
   "execution_count": null,
   "metadata": {},
   "outputs": [],
   "source": [
    "import numpy as np\n",
    "import matplotlib.pyplot as plt\n",
    "%config InlineBackend.figure_format = 'svg'\n",
    "plt.rcParams['figure.figsize'] = (10,4)\n",
    "from IPython.display import Audio, Image\n",
    "from scipy.signal import sawtooth, square\n",
    "from scipy.io.wavfile import read"
   ]
  },
  {
   "cell_type": "markdown",
   "metadata": {
    "slideshow": {
     "slide_type": "slide"
    }
   },
   "source": [
    "### Frequency modulation (FM) and Vibrato\n",
    "If AM modulation is like a tremolo effect, FM modulation when used as an LFO creates a vibrato effect.\n",
    "\n",
    "Frequency modulation is slightly more complicated than amplitude modulation. One way of achieving the result (and allowing yourself to understand it) is with a loop function in python.\n",
    "\n",
    "What we want to do is gradually change the frequency in Hz of the signal we are calculating as time increases. \n",
    "First, Here is an example of a \"sweep\" signal."
   ]
  },
  {
   "cell_type": "markdown",
   "metadata": {},
   "source": [
    "Let's first think about how we could change the frequency by modifying our existing formula for generating a sinusoid:"
   ]
  },
  {
   "cell_type": "code",
   "execution_count": null,
   "metadata": {
    "scrolled": true
   },
   "outputs": [],
   "source": [
    "frequency_change = 40.0\n",
    "carrier_frequency = 60.0\n",
    "\n",
    "fs=44100\n",
    "time = np.arange(0,3,1/fs) #time from 0 to three seconds with fs=44100\n",
    "\n",
    "#create carrier for graphing purposes only:\n",
    "carrier = np.sin(2.0 * np.pi * carrier_frequency * time)\n",
    "#create linear change from zero to Delta frequency: \n",
    "modulator = np.linspace(0,frequency_change,len(carrier))\n",
    "#add small increment of frequency in Hz at instantaneous time, t:\n",
    "product = np.sin(2*np.pi*(carrier_frequency+modulator)*time)\n",
    "\n",
    "plt.subplot(3, 1, 1)\n",
    "plt.title('Frequency Modulation')\n",
    "plt.plot(modulator) # Plot one: linear increase in frequency (i.e., the modulator)\n",
    "plt.ylabel('frequency change')\n",
    "plt.xlabel('Modulator')\n",
    "plt.subplot(3, 1, 2)\n",
    "plt.plot(carrier[:44100]) # Plot two: original frequency\n",
    "plt.ylabel('Amplitude')\n",
    "plt.xlabel('Original signal')\n",
    "plt.subplot(3, 1, 3)\n",
    "plt.plot(product[:44100]) # plot three: product of the two (i.e. Frequency modulated signal)\n",
    "plt.ylabel('Amplitude')\n",
    "plt.xlabel('Output signal')\n",
    "plt.tight_layout()"
   ]
  },
  {
   "cell_type": "code",
   "execution_count": null,
   "metadata": {},
   "outputs": [],
   "source": [
    "Audio(product, rate=44100)"
   ]
  },
  {
   "cell_type": "markdown",
   "metadata": {},
   "source": [
    "Notice in the above function I did not actually multiply two signals together. I simply *constructed* a sinusoid that was modulating at an accelerating pace. To do this in a cyclical fashion (as opposed to linear), we need to alternately extend and contract the frequency or phase of the original sinusoid in order to modify each frequency cycle.\n",
    "\n",
    "Let's first define some variables:"
   ]
  },
  {
   "cell_type": "markdown",
   "metadata": {},
   "source": [
    "$C$ = Carrier frequency  \n",
    "$M$ = Modulator frequency  \n",
    "$\\Delta f$ = frequency deviation (or depth of modulation)  \n",
    "$I = \\frac{\\Delta(f)}{M}$ = modulation index  "
   ]
  },
  {
   "cell_type": "code",
   "execution_count": null,
   "metadata": {},
   "outputs": [],
   "source": [
    "modulator_frequency = 4 #determines periodicity of frequency shift\n",
    "carrier_frequency = 100 #determines fundamental (sometimes)\n",
    "seconds = 3.0 \n",
    "I = 5.0 #determines modulation index\n",
    "\n",
    "time = np.arange(0,seconds*44100.0) / 44100.0  #time from 0 to three seconds with fs=44100\n",
    "carrier = np.sin(2.0 * np.pi * carrier_frequency * time) # create carrier signal for display only\n",
    "modulator = I * np.sin(2.0 * np.pi * modulator_frequency * time) # create modulator signal\n",
    "\n",
    "product = np.sin(2 * np.pi * carrier_frequency * time + modulator)\n",
    "\n",
    "# note this is akin to:\n",
    "product = np.zeros(len(modulator)) \n",
    "for i,t in enumerate(time):\n",
    "    product[i] = np.sin(2. * np.pi * carrier_frequency * t + modulator[i])\n",
    "\n",
    "plt.subplot(3, 1, 1)\n",
    "#plt.title('Frequency Modulation')\n",
    "plt.plot(modulator[:22050]) \n",
    "plt.ylabel('Amplitude')\n",
    "plt.xlabel('Modulator signal')\n",
    "plt.subplot(3, 1, 2)\n",
    "plt.plot(carrier[:22050]) \n",
    "plt.ylabel('Amplitude')\n",
    "plt.xlabel('Carrier signal')\n",
    "plt.subplot(3, 1, 3)\n",
    "plt.plot(product[:22050]) \n",
    "plt.ylabel('Amplitude')\n",
    "plt.xlabel('Output signal')\n",
    "plt.tight_layout()\n"
   ]
  },
  {
   "cell_type": "code",
   "execution_count": null,
   "metadata": {},
   "outputs": [],
   "source": [
    "Audio(product, rate=44100)\n"
   ]
  },
  {
   "cell_type": "markdown",
   "metadata": {},
   "source": [
    "This effectively creates vibrato effect when the rate of modulation is slow (LFO).\n",
    "\n",
    "The rate of the modulator (LFO) wave will determine the speed of the vibrato effect, and the depth (amplitude) of the modulator (relative to the carrier) will determine the intensity of the effect. When the rate is slow we can hear the depth as relating to the difference in frequency.\n",
    "\n",
    "Modulator freq = rate of \"vibrato\" in Hz\n",
    "\n",
    "How much the carrier deviates from its center frequency is known as the **frequency deviation**. The ratio of the frequency deviation to the rate of the modulating frequency is called the **modulation index** as defined above."
   ]
  },
  {
   "cell_type": "markdown",
   "metadata": {},
   "source": [
    "Notice that this \"manual\" implementation above is exactly the same as implementing FM using the familiar formula:\n",
    "\n",
    "$$Asin(2\\pi C_t + Isin(2\\pi M_t))$$\n"
   ]
  },
  {
   "cell_type": "markdown",
   "metadata": {},
   "source": [
    "When the modulator wave is relatively slow, we hear a vibrato effect. However, once the modulator rate increases into the audible frequency range ~20 Hz we begin to instead hear a change in the timbre of the sound (and possibly a change in the fundamental frequency). Below we will experiment with the relation between the rate of the modulator wave (M) and the carrier wave (C) in addition to the modulation index (I)."
   ]
  },
  {
   "cell_type": "markdown",
   "metadata": {},
   "source": [
    "Recall:\n",
    "\n",
    "$I = \\frac{\\Delta f}{f_{mod}}$ = modulation index  \n",
    "\n",
    "*or*\n",
    "\n",
    "$\\Delta f = I * f_{mod}$ = Depth of modulation\n",
    "\n"
   ]
  },
  {
   "cell_type": "markdown",
   "metadata": {},
   "source": [
    "We could construct our FM to calculate the modulation depth based on a fixed modulation index instead of manually passing a depth value. \n",
    "\n",
    "As $I$ increases, we increase the bandwidth of the spectrum (i.e., we get richer and richer sounds). These additional harmonic components will appear at intervals of $C\\pm M$\n"
   ]
  },
  {
   "cell_type": "code",
   "execution_count": null,
   "metadata": {},
   "outputs": [],
   "source": [
    "modulator_frequency = 100 #determines periodicity of frequency shift\n",
    "carrier_frequency = 200 #determines fundamental (sometimes)\n",
    "seconds = 4.0 \n",
    "I = 1.78\n",
    "depth = I * modulator_frequency #determines frequency variation\n",
    "a = 2.0 #determines carrier amplitude\n",
    "\n",
    "time = np.arange(0,seconds*44100.0) / 44100.0  #time from 0 to three seconds with fs=44100\n",
    "\n",
    "carrier = np.sin(2.0 * np.pi * carrier_frequency * time) # create carrier signal\n",
    "modulator = I * np.sin(2.0 * np.pi * modulator_frequency * time) # create modulator signal\n",
    "\n",
    "fm = a * np.sin(2*np.pi*carrier_frequency *time + modulator)"
   ]
  },
  {
   "cell_type": "code",
   "execution_count": null,
   "metadata": {},
   "outputs": [],
   "source": [
    "# carrier only\n",
    "Audio(carrier, rate=44100)"
   ]
  },
  {
   "cell_type": "code",
   "execution_count": null,
   "metadata": {},
   "outputs": [],
   "source": [
    "# FM output\n",
    "plt.plot(fm[:1000]);\n",
    "Audio(fm, rate=44100)"
   ]
  },
  {
   "cell_type": "markdown",
   "metadata": {},
   "source": [
    "By increasing the modulating frequency so that the ratio relative to the carrier is no longer an integer multiple, an inharmonic spectrum is produced:\n",
    "$ H = \\frac{M}{C}$\n",
    "\n",
    "(When H is not an integer multiple, inharmonic spectra result)."
   ]
  },
  {
   "cell_type": "code",
   "execution_count": null,
   "metadata": {},
   "outputs": [],
   "source": [
    "modulator_frequency = 215 #determines periodicity of frequency shift\n",
    "carrier_frequency = 100 \n",
    "seconds = 3.0 \n",
    "I = 1\n",
    "depth = I * modulator_frequency\n",
    "a = 1.0 #determines carrier amplitude\n",
    "time = np.arange(0,seconds*44100.0) / 44100.0  #time from 0 to three seconds with fs=44100\n",
    "\n",
    "carrier = np.sin(2.0 * np.pi * carrier_frequency * time) # create carrier signal\n",
    "modulator = I * np.sin(2.0 * np.pi * modulator_frequency * time) # create modulator signal\n",
    "fm = a * np.sin(2*np.pi*carrier_frequency *time + modulator)"
   ]
  },
  {
   "cell_type": "code",
   "execution_count": null,
   "metadata": {},
   "outputs": [],
   "source": [
    "plt.plot(fm[:10000]);\n",
    "Audio(fm, rate=44100)"
   ]
  },
  {
   "cell_type": "markdown",
   "metadata": {},
   "source": [
    "When the depth of modulation is not zero, sidebands appear in the spectra of the signal above and below the carrier fundamental frequency, C, at multiples of +/- M (modulator frequency). \n",
    "$ C \\pm kM$ where k are the integer multiples of the fundamental of the modulator.\n",
    "As a rule of thumb, the number of sidebands is roughly equivalent to I (index of modulation) plus 2. (At least, this relates to sidebands with amplitudes great enough to have an effect on the perceptual outcome.)"
   ]
  }
 ],
 "metadata": {
  "kernelspec": {
   "display_name": "Python 3 (ipykernel)",
   "language": "python",
   "name": "python3"
  },
  "language_info": {
   "codemirror_mode": {
    "name": "ipython",
    "version": 3
   },
   "file_extension": ".py",
   "mimetype": "text/x-python",
   "name": "python",
   "nbconvert_exporter": "python",
   "pygments_lexer": "ipython3",
   "version": "3.9.16"
  }
 },
 "nbformat": 4,
 "nbformat_minor": 2
}
