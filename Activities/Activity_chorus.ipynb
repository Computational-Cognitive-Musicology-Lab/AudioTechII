{
 "cells": [
  {
   "cell_type": "markdown",
   "id": "712483a7",
   "metadata": {},
   "source": [
    "## Chorus Effect\n",
    "\n",
    "Implement a chorus effect by combining delay and modulation of delay with an LFO.\n",
    "\n",
    "The chorus effect is achieved by taking an original input signal (dry signal), copying it and slightly delaying it. However, unlike our prior implementation, the delay is not static. We will use an LFO to modulate the delay time. That is, we will change the amount of delay time for different parts of the signal.\n",
    "\n",
    "While this modulation changes the timing and pitch of the delayed signal, the original signal remains unaltered, and the effect is blended with the original.\n"
   ]
  },
  {
   "cell_type": "markdown",
   "id": "ec31c2a0",
   "metadata": {},
   "source": [
    "First, read in a small snipped of an audio file, or (simpler) create a short (2-4s) sawtooth or square wave to use as your input signal."
   ]
  },
  {
   "cell_type": "markdown",
   "id": "ef9a510d",
   "metadata": {},
   "source": [
    "#### Trying out the code components"
   ]
  },
  {
   "cell_type": "markdown",
   "id": "40408b1d",
   "metadata": {},
   "source": [
    "1. Figure out the number of samples you will need given your desired \"base\" delay time in milliseconds (Note: commonly 5-30ms is used)."
   ]
  },
  {
   "cell_type": "code",
   "execution_count": null,
   "id": "2f407f84",
   "metadata": {},
   "outputs": [],
   "source": [
    "import numpy as np\n",
    "\n",
    "# Base delay in ms = N samples\n",
    "\n",
    "delay_samples = int((delay_ms / 1000) * fs)"
   ]
  },
  {
   "cell_type": "markdown",
   "id": "6e392f6e",
   "metadata": {},
   "source": [
    "2. Next, you will have a depth parameter that is going to represent the variation in stretch or compression of the delay signal. This is also usually conceived of in milliseconds so you have to convert to a number of samples. (Note: The depth parameter is usually substantially smaller than the base delay)."
   ]
  },
  {
   "cell_type": "code",
   "execution_count": null,
   "id": "f95d1fd3",
   "metadata": {},
   "outputs": [],
   "source": [
    "# Depth parameter in ms = N samples\n",
    "\n",
    "depth_samples = "
   ]
  },
  {
   "cell_type": "code",
   "execution_count": null,
   "id": "8b4905a1",
   "metadata": {},
   "outputs": [],
   "source": [
    "# Create time array to match original (dry) input \n",
    "\n",
    "time = np.arange(len(input_signal))/fs"
   ]
  },
  {
   "cell_type": "code",
   "execution_count": null,
   "id": "04a464ea",
   "metadata": {},
   "outputs": [],
   "source": [
    "# Create LFO with desired rate/speed:\n",
    "\n",
    "lfo = np.sin(2 * np.pi * rate * time)"
   ]
  },
  {
   "cell_type": "markdown",
   "id": "b27c5f8d",
   "metadata": {},
   "source": [
    "3. We then scale our LFO by our depth parameter to induce an oscilator that will vary between our base delay +/- our depth parameter such that we vary between -depth_samples and +depth_samples"
   ]
  },
  {
   "cell_type": "code",
   "execution_count": null,
   "id": "165451f2",
   "metadata": {},
   "outputs": [],
   "source": [
    "# create an array that will indicate the amount of delay (in samples) at each point\n",
    "modulated_delay_amount = delay_samples + depth_samples * lfo"
   ]
  },
  {
   "cell_type": "markdown",
   "id": "f847354a",
   "metadata": {},
   "source": [
    "4. Finally, we apply this modulated delay amount to our original input signal using a loop.\n",
    "\n",
    "For each sample in the original signal, the code needs to calculate a delay index by subtracting the modulated delay (which varies over time) from the current sample index i. This index will point to where in the input signal we need to fetch our delayed sample."
   ]
  },
  {
   "cell_type": "code",
   "execution_count": null,
   "id": "e2a23f92",
   "metadata": {},
   "outputs": [],
   "source": [
    "'''First create an array of zeros to initialize an array where you will store (update) \n",
    "your output'''\n",
    "\n",
    "output_signal = np.zeros(len(input_signal))\n",
    "\n",
    "'''loop through indices of original and modulated_delay_amount object to find \n",
    "correct index to add delay'''\n",
    "\n",
    "for i in range(len(input_signal)):\n",
    "    # delay index:\n",
    "    delay_index = int(i - modulated_delay_amount[i])\n",
    "    \n",
    "    # implement variable delay; update output_signal values using indices\n",
    "    if delay_index >= 0:\n",
    "        output_signal[i] = input_signal[i] + delayed_signal[delay_index]\n",
    "    else:\n",
    "        output_signal[i] = input_signal[i]\n",
    "    print(output_signal)\n",
    "    "
   ]
  },
  {
   "cell_type": "markdown",
   "id": "7f0c783f",
   "metadata": {},
   "source": [
    "## Activity: Chorus Function\n",
    "\n",
    "1. Take all the above, finalize the process until you have something that works, and convert the plain code into a function.\n",
    "\n",
    "**Bonus** Add an optional \"mix\" parameter which would control the amount of the chorus effect (i.e., scalars for blending the dry and wet components in the final step)."
   ]
  },
  {
   "cell_type": "code",
   "execution_count": null,
   "id": "b786eb46",
   "metadata": {},
   "outputs": [],
   "source": [
    "# you may or may not wish to set defaults\n",
    "\n",
    "def chorus_effect(input_signal, fs, delay_ms, depth_ms, lfo_rate, mix):\n",
    "    # your code here"
   ]
  },
  {
   "cell_type": "markdown",
   "id": "1e31ba39",
   "metadata": {},
   "source": [
    "#### Optional/Bonus:\n",
    "\n",
    "Create a more realistic, complex function by combining more than one delay copy (i.e., multiple delayed voices) each with its own delay line and LFO modulation. And/or optionally include a parameter so that the LFO can be a different waveform (other than sinusoid)."
   ]
  },
  {
   "cell_type": "code",
   "execution_count": null,
   "id": "ada7726e",
   "metadata": {},
   "outputs": [],
   "source": [
    "# note here plural parameters below are expected as list items!\n",
    "# you may or may not wish to set defaults\n",
    "\n",
    "def complex_chorus(input_signal, fs, delays_ms, depths_ms, lfo_rates, lfo_waveforms, mix)"
   ]
  }
 ],
 "metadata": {
  "kernelspec": {
   "display_name": "Python 3 (ipykernel)",
   "language": "python",
   "name": "python3"
  },
  "language_info": {
   "codemirror_mode": {
    "name": "ipython",
    "version": 3
   },
   "file_extension": ".py",
   "mimetype": "text/x-python",
   "name": "python",
   "nbconvert_exporter": "python",
   "pygments_lexer": "ipython3",
   "version": "3.9.16"
  }
 },
 "nbformat": 4,
 "nbformat_minor": 5
}
