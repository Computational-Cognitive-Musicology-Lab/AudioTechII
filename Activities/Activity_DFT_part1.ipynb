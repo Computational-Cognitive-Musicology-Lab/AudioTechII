{
 "cells": [
  {
   "cell_type": "code",
   "execution_count": null,
   "id": "3803a4e9",
   "metadata": {},
   "outputs": [],
   "source": [
    "import numpy as np\n",
    "import matplotlib.pyplot as plt"
   ]
  },
  {
   "cell_type": "markdown",
   "id": "f67231ad",
   "metadata": {},
   "source": [
    "### Step One\n",
    "\n",
    "Make a simple sinusoid with a periodicity (let's call it \"k\") below 10 and a very low sample rate (let's call it \"N\") and for graphing purposes we will set it to 50. Save this array output as variable \"s\"."
   ]
  },
  {
   "cell_type": "code",
   "execution_count": null,
   "id": "5976c823",
   "metadata": {},
   "outputs": [],
   "source": [
    "# your code here\n",
    "N = \n",
    "k = 8\n",
    "n =                        # time series array \n",
    "s = np.sin(2 * np.pi * k * n)"
   ]
  },
  {
   "cell_type": "markdown",
   "id": "8e1de611",
   "metadata": {},
   "source": [
    "### Step Two\n",
    "\n",
    "Using a for-loop, compute a cosine and sine wave at every value from 0 through k with the same sample rate as above (N).\n",
    "\n",
    "At each wave you create, plot on top of each other your original wave (s) and your created wave, k_wave. Put the cosine waves on the left and the sine waves on the right.\n",
    "\n"
   ]
  },
  {
   "cell_type": "code",
   "execution_count": null,
   "id": "211be6e0",
   "metadata": {},
   "outputs": [],
   "source": [
    "k = k # change manually if you like to another value\n",
    "\n",
    "fig, axs = plt.subplots(nrows=N, ncols=2, sharex=True, sharey=True, figsize=(10, 2*k))\n",
    "\n",
    "for i in range(N):\n",
    "    # Generate cosine and sine waves for the current value of i\n",
    "    cos_wave =  # use the time array you specified in step one (\"n\")\n",
    "    sin_wave = \n",
    "    \n",
    "    # Plot original wave 's' and cosine wave on the left\n",
    "    axs[i, 0].plot(n, s, label='Original Sinusoid', color=\"blue\", marker='o')\n",
    "    axs[i, 0].plot(n, cos_wave, label=i, color=\"orange\", marker='o')\n",
    "    axs[i, 0].set_title(\"k = \"+str(i))\n",
    "    \n",
    "    # Plot original wave 's' and sine wave on the right\n",
    "    axs[i, 1].plot(n, s, label='Original Sinusoid',color='blue', marker='o')\n",
    "    axs[i, 1].plot(n, sin_wave, label=i, color=\"orange\", marker='o')\n",
    "    axs[i, 1].set_title(\"k = \"+str(i))\n",
    "\n",
    "plt.tight_layout()\n",
    "plt.show()\n",
    "   \n"
   ]
  },
  {
   "cell_type": "markdown",
   "id": "d1331542",
   "metadata": {},
   "source": [
    "### Modify step two\n",
    "Copy your loop above and modify the code so that:\n",
    "\n",
    "N and k have the same (maximum) value (i.e., N dictates the range of k)\n",
    "\n",
    "You will then multiply the two signals together (s * k_wave) and sum (i.e., compute dot product) for each k_wave (sin and cos). You should have two values for every k: one is the dot product of s and your sinusoidal k_wave, and one is the dot product of s and the cosine k_wave.\n",
    "\n",
    "Print out these two arrays. (*Note: you do not need to plot anything at this stage but you may wish to in order to see the changes when k and N have the same maximum*)"
   ]
  },
  {
   "cell_type": "code",
   "execution_count": null,
   "id": "dcf51b98",
   "metadata": {},
   "outputs": [],
   "source": [
    "# your code here\n",
    "X_k = np.array([]) # initialize empty array\n",
    "\n",
    "for i in range(N):\n",
    "    # Generate cosine and sine waves for the current value of i\n",
    "    cos_wave =  # use the time array you specified in step one (\"n\")\n",
    "    sin_wave = \n",
    "    \n",
    "    # append to array: cos - j sin, as a tuple for each component k:\n",
    "    # multiply original signal, s, with each coefficient and sum each:\n",
    "    c_coeff_k = \n",
    "    s_coeff_k = \n",
    "    \n",
    "    X_k = np.append(X_k, [c_coeff_k, s_coeff_k])\n",
    "\n",
    "print(X_k)\n",
    "    \n",
    "    "
   ]
  },
  {
   "cell_type": "code",
   "execution_count": null,
   "id": "dcc7f79f",
   "metadata": {},
   "outputs": [],
   "source": [
    "# replace separate sin and cos coefficients with single using complex exponential\n"
   ]
  },
  {
   "cell_type": "code",
   "execution_count": null,
   "id": "5652281a",
   "metadata": {},
   "outputs": [],
   "source": [
    "# wrap into a DFT **function** that will return complex coefficient for each value of k."
   ]
  }
 ],
 "metadata": {
  "kernelspec": {
   "display_name": "Python 3 (ipykernel)",
   "language": "python",
   "name": "python3"
  },
  "language_info": {
   "codemirror_mode": {
    "name": "ipython",
    "version": 3
   },
   "file_extension": ".py",
   "mimetype": "text/x-python",
   "name": "python",
   "nbconvert_exporter": "python",
   "pygments_lexer": "ipython3",
   "version": "3.9.16"
  }
 },
 "nbformat": 4,
 "nbformat_minor": 5
}
