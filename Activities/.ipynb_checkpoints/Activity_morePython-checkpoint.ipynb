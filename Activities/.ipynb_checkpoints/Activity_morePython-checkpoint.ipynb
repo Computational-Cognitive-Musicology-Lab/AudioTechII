{
 "cells": [
  {
   "cell_type": "markdown",
   "id": "7e82a551",
   "metadata": {},
   "source": [
    "# Activity: \n",
    "\n",
    "Pratice using arrays, indexing, and boolean indexing"
   ]
  },
  {
   "cell_type": "markdown",
   "id": "7c297032",
   "metadata": {},
   "source": [
    "1) Make an array from 1 to 100 and save as a variable. Index the first 20 values from that array and save as a new variable \"v\". (Always print your results).\n"
   ]
  },
  {
   "cell_type": "markdown",
   "id": "de595fd9",
   "metadata": {},
   "source": [
    "2) Create a boolean array to indicate which values from v are less than 10"
   ]
  },
  {
   "cell_type": "markdown",
   "id": "a79bce19",
   "metadata": {},
   "source": [
    "3) Use the boolean array from (2) to return the numbers from array \"v\" that are less than 10.  \n",
    "*Note: this is called using a boolean \"mask\"*"
   ]
  },
  {
   "cell_type": "markdown",
   "id": "b4018452",
   "metadata": {},
   "source": [
    "4) Create a boolean mask to return the numbers from \"v\" that are divisible by 3"
   ]
  },
  {
   "cell_type": "markdown",
   "id": "2528677e",
   "metadata": {},
   "source": [
    "5) Make a new array of length 20 of random numbers sampled from -10 to 10.  Save your output as a variable.\n",
    "*Hint: use the `np.random.randint` function*"
   ]
  },
  {
   "cell_type": "markdown",
   "id": "8b4cd98f",
   "metadata": {},
   "source": [
    "6) Using the variable you created in (5), use boolean indexing with logic *or* boolean indexing with the function `np.sign` to return only the negative values, and then calculate the length of the ouput array.  \n"
   ]
  },
  {
   "cell_type": "markdown",
   "id": "bab18cd7",
   "metadata": {},
   "source": [
    "7) Use the function `np.where` to return the index (location) of the negative values from the variable you created in 5"
   ]
  },
  {
   "cell_type": "markdown",
   "id": "90f4d415",
   "metadata": {},
   "source": [
    "8) Use the entire of what you wrote in your answer to (7) to index your variable from (5)"
   ]
  },
  {
   "cell_type": "markdown",
   "id": "930bf0a2",
   "metadata": {},
   "source": [
    "9) Take what you wrote in (8) and multiply it by -1 so that all numbers in the array are now positive"
   ]
  },
  {
   "cell_type": "code",
   "execution_count": null,
   "id": "207ea513",
   "metadata": {},
   "outputs": [],
   "source": []
  }
 ],
 "metadata": {
  "kernelspec": {
   "display_name": "Python 3 (ipykernel)",
   "language": "python",
   "name": "python3"
  },
  "language_info": {
   "codemirror_mode": {
    "name": "ipython",
    "version": 3
   },
   "file_extension": ".py",
   "mimetype": "text/x-python",
   "name": "python",
   "nbconvert_exporter": "python",
   "pygments_lexer": "ipython3",
   "version": "3.9.16"
  }
 },
 "nbformat": 4,
 "nbformat_minor": 5
}
