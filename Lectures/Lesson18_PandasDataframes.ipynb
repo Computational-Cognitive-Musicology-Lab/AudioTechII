{
 "cells": [
  {
   "cell_type": "markdown",
   "metadata": {},
   "source": [
    "### Pandas Dataframes"
   ]
  },
  {
   "cell_type": "markdown",
   "metadata": {},
   "source": [
    "`pandas` is a \"library providing high-performance, easy-to-use data structures and data analysis tools\".  In lesson 21 I introduced the main tool that we will be using from pandas to organize our data: **the pandas dataframe**. Working with dataframes shares similarities with dictionaries (so if you are familiar with those, it likely will be easy for you)."
   ]
  },
  {
   "cell_type": "markdown",
   "metadata": {},
   "source": [
    "A pandas `DataFrame` houses columns of data where each column is represented as a `Series`. A Series is similar to an array in numpy, in that we do not have to iterate through elements, but can apply functions, transformations, or manipulations easily to entire Series of data, or, sometimes, to the entire dataframe."
   ]
  },
  {
   "cell_type": "markdown",
   "metadata": {},
   "source": [
    "### Getting data into a dataframe\n",
    "\n",
    "The simplest way to get data into a dataframe is if it already exists in table format (such as a .csv file). However, since we mainly will be creating the data ourselves from scratch, it will be useful to see how data can be passed from other formats into a single dataframe."
   ]
  },
  {
   "cell_type": "markdown",
   "metadata": {},
   "source": [
    "Recall we created a key profile dictionary in our 'Key Finding' lesson..."
   ]
  },
  {
   "cell_type": "code",
   "execution_count": 1,
   "metadata": {},
   "outputs": [],
   "source": [
    "import numpy as np\n",
    "#profile values by pitch class\n",
    "#CMajor:\n",
    "major_0 = np.array([6.35,2.23,3.48,2.33,4.38,4.09,2.52,5.19,2.39,3.66,2.29,2.88]) #values: C,C#,D,D#,...B\n",
    "#CMinor:\n",
    "minor_0 = np.array([6.33,2.68,3.52,5.38,2.60,3.53,2.54,4.75,3.98,2.69,3.34,3.17]) #values: C,C#,D,D#,...B\n",
    "\n",
    "#create array of key profiles for all 24 keys\n",
    "arraysDict = {}\n",
    "for i in range(0,12):\n",
    "    arraysDict['major_{0}'.format(i)] = np.roll(major_0,i)#iteratively create each label while rotating\n",
    "    arraysDict['minor_{0}'.format(i)] = np.roll(minor_0,i)#np.roll is a handy shifting/rotating function\n"
   ]
  },
  {
   "cell_type": "markdown",
   "metadata": {},
   "source": [
    "We can take a dictionary that has the correct shape, and simply pass it to a dataframe. By default each (key, value) pair in the dictionary will map as: (column-label, column-data)"
   ]
  },
  {
   "cell_type": "code",
   "execution_count": 2,
   "metadata": {},
   "outputs": [],
   "source": [
    "import pandas as pd #import pandas library\n",
    "key_pfs = pd.DataFrame(arraysDict) #pass key profiles dictionary to the \"DataFrame\" function and save"
   ]
  },
  {
   "cell_type": "code",
   "execution_count": 3,
   "metadata": {},
   "outputs": [
    {
     "data": {
      "text/html": [
       "<div>\n",
       "<style scoped>\n",
       "    .dataframe tbody tr th:only-of-type {\n",
       "        vertical-align: middle;\n",
       "    }\n",
       "\n",
       "    .dataframe tbody tr th {\n",
       "        vertical-align: top;\n",
       "    }\n",
       "\n",
       "    .dataframe thead th {\n",
       "        text-align: right;\n",
       "    }\n",
       "</style>\n",
       "<table border=\"1\" class=\"dataframe\">\n",
       "  <thead>\n",
       "    <tr style=\"text-align: right;\">\n",
       "      <th></th>\n",
       "      <th>major_0</th>\n",
       "      <th>minor_0</th>\n",
       "      <th>major_1</th>\n",
       "      <th>minor_1</th>\n",
       "      <th>major_2</th>\n",
       "      <th>minor_2</th>\n",
       "      <th>major_3</th>\n",
       "      <th>minor_3</th>\n",
       "      <th>major_4</th>\n",
       "      <th>minor_4</th>\n",
       "      <th>...</th>\n",
       "      <th>major_7</th>\n",
       "      <th>minor_7</th>\n",
       "      <th>major_8</th>\n",
       "      <th>minor_8</th>\n",
       "      <th>major_9</th>\n",
       "      <th>minor_9</th>\n",
       "      <th>major_10</th>\n",
       "      <th>minor_10</th>\n",
       "      <th>major_11</th>\n",
       "      <th>minor_11</th>\n",
       "    </tr>\n",
       "  </thead>\n",
       "  <tbody>\n",
       "    <tr>\n",
       "      <th>0</th>\n",
       "      <td>6.35</td>\n",
       "      <td>6.33</td>\n",
       "      <td>2.88</td>\n",
       "      <td>3.17</td>\n",
       "      <td>2.29</td>\n",
       "      <td>3.34</td>\n",
       "      <td>3.66</td>\n",
       "      <td>2.69</td>\n",
       "      <td>2.39</td>\n",
       "      <td>3.98</td>\n",
       "      <td>...</td>\n",
       "      <td>4.09</td>\n",
       "      <td>3.53</td>\n",
       "      <td>4.38</td>\n",
       "      <td>2.60</td>\n",
       "      <td>2.33</td>\n",
       "      <td>5.38</td>\n",
       "      <td>3.48</td>\n",
       "      <td>3.52</td>\n",
       "      <td>2.23</td>\n",
       "      <td>2.68</td>\n",
       "    </tr>\n",
       "    <tr>\n",
       "      <th>1</th>\n",
       "      <td>2.23</td>\n",
       "      <td>2.68</td>\n",
       "      <td>6.35</td>\n",
       "      <td>6.33</td>\n",
       "      <td>2.88</td>\n",
       "      <td>3.17</td>\n",
       "      <td>2.29</td>\n",
       "      <td>3.34</td>\n",
       "      <td>3.66</td>\n",
       "      <td>2.69</td>\n",
       "      <td>...</td>\n",
       "      <td>2.52</td>\n",
       "      <td>2.54</td>\n",
       "      <td>4.09</td>\n",
       "      <td>3.53</td>\n",
       "      <td>4.38</td>\n",
       "      <td>2.60</td>\n",
       "      <td>2.33</td>\n",
       "      <td>5.38</td>\n",
       "      <td>3.48</td>\n",
       "      <td>3.52</td>\n",
       "    </tr>\n",
       "    <tr>\n",
       "      <th>2</th>\n",
       "      <td>3.48</td>\n",
       "      <td>3.52</td>\n",
       "      <td>2.23</td>\n",
       "      <td>2.68</td>\n",
       "      <td>6.35</td>\n",
       "      <td>6.33</td>\n",
       "      <td>2.88</td>\n",
       "      <td>3.17</td>\n",
       "      <td>2.29</td>\n",
       "      <td>3.34</td>\n",
       "      <td>...</td>\n",
       "      <td>5.19</td>\n",
       "      <td>4.75</td>\n",
       "      <td>2.52</td>\n",
       "      <td>2.54</td>\n",
       "      <td>4.09</td>\n",
       "      <td>3.53</td>\n",
       "      <td>4.38</td>\n",
       "      <td>2.60</td>\n",
       "      <td>2.33</td>\n",
       "      <td>5.38</td>\n",
       "    </tr>\n",
       "    <tr>\n",
       "      <th>3</th>\n",
       "      <td>2.33</td>\n",
       "      <td>5.38</td>\n",
       "      <td>3.48</td>\n",
       "      <td>3.52</td>\n",
       "      <td>2.23</td>\n",
       "      <td>2.68</td>\n",
       "      <td>6.35</td>\n",
       "      <td>6.33</td>\n",
       "      <td>2.88</td>\n",
       "      <td>3.17</td>\n",
       "      <td>...</td>\n",
       "      <td>2.39</td>\n",
       "      <td>3.98</td>\n",
       "      <td>5.19</td>\n",
       "      <td>4.75</td>\n",
       "      <td>2.52</td>\n",
       "      <td>2.54</td>\n",
       "      <td>4.09</td>\n",
       "      <td>3.53</td>\n",
       "      <td>4.38</td>\n",
       "      <td>2.60</td>\n",
       "    </tr>\n",
       "    <tr>\n",
       "      <th>4</th>\n",
       "      <td>4.38</td>\n",
       "      <td>2.60</td>\n",
       "      <td>2.33</td>\n",
       "      <td>5.38</td>\n",
       "      <td>3.48</td>\n",
       "      <td>3.52</td>\n",
       "      <td>2.23</td>\n",
       "      <td>2.68</td>\n",
       "      <td>6.35</td>\n",
       "      <td>6.33</td>\n",
       "      <td>...</td>\n",
       "      <td>3.66</td>\n",
       "      <td>2.69</td>\n",
       "      <td>2.39</td>\n",
       "      <td>3.98</td>\n",
       "      <td>5.19</td>\n",
       "      <td>4.75</td>\n",
       "      <td>2.52</td>\n",
       "      <td>2.54</td>\n",
       "      <td>4.09</td>\n",
       "      <td>3.53</td>\n",
       "    </tr>\n",
       "    <tr>\n",
       "      <th>5</th>\n",
       "      <td>4.09</td>\n",
       "      <td>3.53</td>\n",
       "      <td>4.38</td>\n",
       "      <td>2.60</td>\n",
       "      <td>2.33</td>\n",
       "      <td>5.38</td>\n",
       "      <td>3.48</td>\n",
       "      <td>3.52</td>\n",
       "      <td>2.23</td>\n",
       "      <td>2.68</td>\n",
       "      <td>...</td>\n",
       "      <td>2.29</td>\n",
       "      <td>3.34</td>\n",
       "      <td>3.66</td>\n",
       "      <td>2.69</td>\n",
       "      <td>2.39</td>\n",
       "      <td>3.98</td>\n",
       "      <td>5.19</td>\n",
       "      <td>4.75</td>\n",
       "      <td>2.52</td>\n",
       "      <td>2.54</td>\n",
       "    </tr>\n",
       "    <tr>\n",
       "      <th>6</th>\n",
       "      <td>2.52</td>\n",
       "      <td>2.54</td>\n",
       "      <td>4.09</td>\n",
       "      <td>3.53</td>\n",
       "      <td>4.38</td>\n",
       "      <td>2.60</td>\n",
       "      <td>2.33</td>\n",
       "      <td>5.38</td>\n",
       "      <td>3.48</td>\n",
       "      <td>3.52</td>\n",
       "      <td>...</td>\n",
       "      <td>2.88</td>\n",
       "      <td>3.17</td>\n",
       "      <td>2.29</td>\n",
       "      <td>3.34</td>\n",
       "      <td>3.66</td>\n",
       "      <td>2.69</td>\n",
       "      <td>2.39</td>\n",
       "      <td>3.98</td>\n",
       "      <td>5.19</td>\n",
       "      <td>4.75</td>\n",
       "    </tr>\n",
       "    <tr>\n",
       "      <th>7</th>\n",
       "      <td>5.19</td>\n",
       "      <td>4.75</td>\n",
       "      <td>2.52</td>\n",
       "      <td>2.54</td>\n",
       "      <td>4.09</td>\n",
       "      <td>3.53</td>\n",
       "      <td>4.38</td>\n",
       "      <td>2.60</td>\n",
       "      <td>2.33</td>\n",
       "      <td>5.38</td>\n",
       "      <td>...</td>\n",
       "      <td>6.35</td>\n",
       "      <td>6.33</td>\n",
       "      <td>2.88</td>\n",
       "      <td>3.17</td>\n",
       "      <td>2.29</td>\n",
       "      <td>3.34</td>\n",
       "      <td>3.66</td>\n",
       "      <td>2.69</td>\n",
       "      <td>2.39</td>\n",
       "      <td>3.98</td>\n",
       "    </tr>\n",
       "    <tr>\n",
       "      <th>8</th>\n",
       "      <td>2.39</td>\n",
       "      <td>3.98</td>\n",
       "      <td>5.19</td>\n",
       "      <td>4.75</td>\n",
       "      <td>2.52</td>\n",
       "      <td>2.54</td>\n",
       "      <td>4.09</td>\n",
       "      <td>3.53</td>\n",
       "      <td>4.38</td>\n",
       "      <td>2.60</td>\n",
       "      <td>...</td>\n",
       "      <td>2.23</td>\n",
       "      <td>2.68</td>\n",
       "      <td>6.35</td>\n",
       "      <td>6.33</td>\n",
       "      <td>2.88</td>\n",
       "      <td>3.17</td>\n",
       "      <td>2.29</td>\n",
       "      <td>3.34</td>\n",
       "      <td>3.66</td>\n",
       "      <td>2.69</td>\n",
       "    </tr>\n",
       "    <tr>\n",
       "      <th>9</th>\n",
       "      <td>3.66</td>\n",
       "      <td>2.69</td>\n",
       "      <td>2.39</td>\n",
       "      <td>3.98</td>\n",
       "      <td>5.19</td>\n",
       "      <td>4.75</td>\n",
       "      <td>2.52</td>\n",
       "      <td>2.54</td>\n",
       "      <td>4.09</td>\n",
       "      <td>3.53</td>\n",
       "      <td>...</td>\n",
       "      <td>3.48</td>\n",
       "      <td>3.52</td>\n",
       "      <td>2.23</td>\n",
       "      <td>2.68</td>\n",
       "      <td>6.35</td>\n",
       "      <td>6.33</td>\n",
       "      <td>2.88</td>\n",
       "      <td>3.17</td>\n",
       "      <td>2.29</td>\n",
       "      <td>3.34</td>\n",
       "    </tr>\n",
       "    <tr>\n",
       "      <th>10</th>\n",
       "      <td>2.29</td>\n",
       "      <td>3.34</td>\n",
       "      <td>3.66</td>\n",
       "      <td>2.69</td>\n",
       "      <td>2.39</td>\n",
       "      <td>3.98</td>\n",
       "      <td>5.19</td>\n",
       "      <td>4.75</td>\n",
       "      <td>2.52</td>\n",
       "      <td>2.54</td>\n",
       "      <td>...</td>\n",
       "      <td>2.33</td>\n",
       "      <td>5.38</td>\n",
       "      <td>3.48</td>\n",
       "      <td>3.52</td>\n",
       "      <td>2.23</td>\n",
       "      <td>2.68</td>\n",
       "      <td>6.35</td>\n",
       "      <td>6.33</td>\n",
       "      <td>2.88</td>\n",
       "      <td>3.17</td>\n",
       "    </tr>\n",
       "    <tr>\n",
       "      <th>11</th>\n",
       "      <td>2.88</td>\n",
       "      <td>3.17</td>\n",
       "      <td>2.29</td>\n",
       "      <td>3.34</td>\n",
       "      <td>3.66</td>\n",
       "      <td>2.69</td>\n",
       "      <td>2.39</td>\n",
       "      <td>3.98</td>\n",
       "      <td>5.19</td>\n",
       "      <td>4.75</td>\n",
       "      <td>...</td>\n",
       "      <td>4.38</td>\n",
       "      <td>2.60</td>\n",
       "      <td>2.33</td>\n",
       "      <td>5.38</td>\n",
       "      <td>3.48</td>\n",
       "      <td>3.52</td>\n",
       "      <td>2.23</td>\n",
       "      <td>2.68</td>\n",
       "      <td>6.35</td>\n",
       "      <td>6.33</td>\n",
       "    </tr>\n",
       "  </tbody>\n",
       "</table>\n",
       "<p>12 rows × 24 columns</p>\n",
       "</div>"
      ],
      "text/plain": [
       "    major_0  minor_0  major_1  minor_1  major_2  minor_2  major_3  minor_3  \\\n",
       "0      6.35     6.33     2.88     3.17     2.29     3.34     3.66     2.69   \n",
       "1      2.23     2.68     6.35     6.33     2.88     3.17     2.29     3.34   \n",
       "2      3.48     3.52     2.23     2.68     6.35     6.33     2.88     3.17   \n",
       "3      2.33     5.38     3.48     3.52     2.23     2.68     6.35     6.33   \n",
       "4      4.38     2.60     2.33     5.38     3.48     3.52     2.23     2.68   \n",
       "5      4.09     3.53     4.38     2.60     2.33     5.38     3.48     3.52   \n",
       "6      2.52     2.54     4.09     3.53     4.38     2.60     2.33     5.38   \n",
       "7      5.19     4.75     2.52     2.54     4.09     3.53     4.38     2.60   \n",
       "8      2.39     3.98     5.19     4.75     2.52     2.54     4.09     3.53   \n",
       "9      3.66     2.69     2.39     3.98     5.19     4.75     2.52     2.54   \n",
       "10     2.29     3.34     3.66     2.69     2.39     3.98     5.19     4.75   \n",
       "11     2.88     3.17     2.29     3.34     3.66     2.69     2.39     3.98   \n",
       "\n",
       "    major_4  minor_4  ...  major_7  minor_7  major_8  minor_8  major_9  \\\n",
       "0      2.39     3.98  ...     4.09     3.53     4.38     2.60     2.33   \n",
       "1      3.66     2.69  ...     2.52     2.54     4.09     3.53     4.38   \n",
       "2      2.29     3.34  ...     5.19     4.75     2.52     2.54     4.09   \n",
       "3      2.88     3.17  ...     2.39     3.98     5.19     4.75     2.52   \n",
       "4      6.35     6.33  ...     3.66     2.69     2.39     3.98     5.19   \n",
       "5      2.23     2.68  ...     2.29     3.34     3.66     2.69     2.39   \n",
       "6      3.48     3.52  ...     2.88     3.17     2.29     3.34     3.66   \n",
       "7      2.33     5.38  ...     6.35     6.33     2.88     3.17     2.29   \n",
       "8      4.38     2.60  ...     2.23     2.68     6.35     6.33     2.88   \n",
       "9      4.09     3.53  ...     3.48     3.52     2.23     2.68     6.35   \n",
       "10     2.52     2.54  ...     2.33     5.38     3.48     3.52     2.23   \n",
       "11     5.19     4.75  ...     4.38     2.60     2.33     5.38     3.48   \n",
       "\n",
       "    minor_9  major_10  minor_10  major_11  minor_11  \n",
       "0      5.38      3.48      3.52      2.23      2.68  \n",
       "1      2.60      2.33      5.38      3.48      3.52  \n",
       "2      3.53      4.38      2.60      2.33      5.38  \n",
       "3      2.54      4.09      3.53      4.38      2.60  \n",
       "4      4.75      2.52      2.54      4.09      3.53  \n",
       "5      3.98      5.19      4.75      2.52      2.54  \n",
       "6      2.69      2.39      3.98      5.19      4.75  \n",
       "7      3.34      3.66      2.69      2.39      3.98  \n",
       "8      3.17      2.29      3.34      3.66      2.69  \n",
       "9      6.33      2.88      3.17      2.29      3.34  \n",
       "10     2.68      6.35      6.33      2.88      3.17  \n",
       "11     3.52      2.23      2.68      6.35      6.33  \n",
       "\n",
       "[12 rows x 24 columns]"
      ]
     },
     "execution_count": 3,
     "metadata": {},
     "output_type": "execute_result"
    }
   ],
   "source": [
    "key_pfs"
   ]
  },
  {
   "cell_type": "markdown",
   "metadata": {},
   "source": [
    "We can also read in data directly from a multidimensional array. Here, by default, each subarray will map to a row of table data:"
   ]
  },
  {
   "cell_type": "code",
   "execution_count": 4,
   "metadata": {},
   "outputs": [
    {
     "data": {
      "text/html": [
       "<div>\n",
       "<style scoped>\n",
       "    .dataframe tbody tr th:only-of-type {\n",
       "        vertical-align: middle;\n",
       "    }\n",
       "\n",
       "    .dataframe tbody tr th {\n",
       "        vertical-align: top;\n",
       "    }\n",
       "\n",
       "    .dataframe thead th {\n",
       "        text-align: right;\n",
       "    }\n",
       "</style>\n",
       "<table border=\"1\" class=\"dataframe\">\n",
       "  <thead>\n",
       "    <tr style=\"text-align: right;\">\n",
       "      <th></th>\n",
       "      <th>0</th>\n",
       "      <th>1</th>\n",
       "      <th>2</th>\n",
       "      <th>3</th>\n",
       "      <th>4</th>\n",
       "      <th>5</th>\n",
       "    </tr>\n",
       "  </thead>\n",
       "  <tbody>\n",
       "    <tr>\n",
       "      <th>0</th>\n",
       "      <td>5.5</td>\n",
       "      <td>6.5</td>\n",
       "      <td>7.9</td>\n",
       "      <td>5.7</td>\n",
       "      <td>6.8</td>\n",
       "      <td>8.1</td>\n",
       "    </tr>\n",
       "    <tr>\n",
       "      <th>1</th>\n",
       "      <td>5.1</td>\n",
       "      <td>3.4</td>\n",
       "      <td>6.5</td>\n",
       "      <td>8.8</td>\n",
       "      <td>6.3</td>\n",
       "      <td>4.9</td>\n",
       "    </tr>\n",
       "    <tr>\n",
       "      <th>2</th>\n",
       "      <td>4.3</td>\n",
       "      <td>6.7</td>\n",
       "      <td>6.5</td>\n",
       "      <td>4.6</td>\n",
       "      <td>7.2</td>\n",
       "      <td>7.9</td>\n",
       "    </tr>\n",
       "  </tbody>\n",
       "</table>\n",
       "</div>"
      ],
      "text/plain": [
       "     0    1    2    3    4    5\n",
       "0  5.5  6.5  7.9  5.7  6.8  8.1\n",
       "1  5.1  3.4  6.5  8.8  6.3  4.9\n",
       "2  4.3  6.7  6.5  4.6  7.2  7.9"
      ]
     },
     "execution_count": 4,
     "metadata": {},
     "output_type": "execute_result"
    }
   ],
   "source": [
    "fruits = np.array([[5.5,6.5,7.9,5.7,6.8,8.1],[5.1,3.4,6.5,8.8,6.3,4.9],[4.3,6.7,6.5,4.6,7.2,7.9]])\n",
    "fruitTable = pd.DataFrame(fruits)\n",
    "fruitTable"
   ]
  },
  {
   "cell_type": "markdown",
   "metadata": {},
   "source": [
    "To \"flip\" the table (which may be necessary depending on the output of data) use the `pandas.transpose` function (or the .T method)"
   ]
  },
  {
   "cell_type": "code",
   "execution_count": 5,
   "metadata": {},
   "outputs": [],
   "source": [
    "fruitTable = fruitTable.transpose()"
   ]
  },
  {
   "cell_type": "code",
   "execution_count": 6,
   "metadata": {},
   "outputs": [
    {
     "data": {
      "text/html": [
       "<div>\n",
       "<style scoped>\n",
       "    .dataframe tbody tr th:only-of-type {\n",
       "        vertical-align: middle;\n",
       "    }\n",
       "\n",
       "    .dataframe tbody tr th {\n",
       "        vertical-align: top;\n",
       "    }\n",
       "\n",
       "    .dataframe thead th {\n",
       "        text-align: right;\n",
       "    }\n",
       "</style>\n",
       "<table border=\"1\" class=\"dataframe\">\n",
       "  <thead>\n",
       "    <tr style=\"text-align: right;\">\n",
       "      <th></th>\n",
       "      <th>0</th>\n",
       "      <th>1</th>\n",
       "      <th>2</th>\n",
       "    </tr>\n",
       "  </thead>\n",
       "  <tbody>\n",
       "    <tr>\n",
       "      <th>0</th>\n",
       "      <td>5.5</td>\n",
       "      <td>5.1</td>\n",
       "      <td>4.3</td>\n",
       "    </tr>\n",
       "    <tr>\n",
       "      <th>1</th>\n",
       "      <td>6.5</td>\n",
       "      <td>3.4</td>\n",
       "      <td>6.7</td>\n",
       "    </tr>\n",
       "    <tr>\n",
       "      <th>2</th>\n",
       "      <td>7.9</td>\n",
       "      <td>6.5</td>\n",
       "      <td>6.5</td>\n",
       "    </tr>\n",
       "    <tr>\n",
       "      <th>3</th>\n",
       "      <td>5.7</td>\n",
       "      <td>8.8</td>\n",
       "      <td>4.6</td>\n",
       "    </tr>\n",
       "    <tr>\n",
       "      <th>4</th>\n",
       "      <td>6.8</td>\n",
       "      <td>6.3</td>\n",
       "      <td>7.2</td>\n",
       "    </tr>\n",
       "    <tr>\n",
       "      <th>5</th>\n",
       "      <td>8.1</td>\n",
       "      <td>4.9</td>\n",
       "      <td>7.9</td>\n",
       "    </tr>\n",
       "  </tbody>\n",
       "</table>\n",
       "</div>"
      ],
      "text/plain": [
       "     0    1    2\n",
       "0  5.5  5.1  4.3\n",
       "1  6.5  3.4  6.7\n",
       "2  7.9  6.5  6.5\n",
       "3  5.7  8.8  4.6\n",
       "4  6.8  6.3  7.2\n",
       "5  8.1  4.9  7.9"
      ]
     },
     "execution_count": 6,
     "metadata": {},
     "output_type": "execute_result"
    }
   ],
   "source": [
    "fruitTable"
   ]
  },
  {
   "cell_type": "code",
   "execution_count": 7,
   "metadata": {},
   "outputs": [
    {
     "data": {
      "text/html": [
       "<div>\n",
       "<style scoped>\n",
       "    .dataframe tbody tr th:only-of-type {\n",
       "        vertical-align: middle;\n",
       "    }\n",
       "\n",
       "    .dataframe tbody tr th {\n",
       "        vertical-align: top;\n",
       "    }\n",
       "\n",
       "    .dataframe thead th {\n",
       "        text-align: right;\n",
       "    }\n",
       "</style>\n",
       "<table border=\"1\" class=\"dataframe\">\n",
       "  <thead>\n",
       "    <tr style=\"text-align: right;\">\n",
       "      <th></th>\n",
       "      <th>0</th>\n",
       "      <th>1</th>\n",
       "      <th>2</th>\n",
       "      <th>3</th>\n",
       "      <th>4</th>\n",
       "      <th>5</th>\n",
       "    </tr>\n",
       "  </thead>\n",
       "  <tbody>\n",
       "    <tr>\n",
       "      <th>0</th>\n",
       "      <td>5.5</td>\n",
       "      <td>6.5</td>\n",
       "      <td>7.9</td>\n",
       "      <td>5.7</td>\n",
       "      <td>6.8</td>\n",
       "      <td>8.1</td>\n",
       "    </tr>\n",
       "    <tr>\n",
       "      <th>1</th>\n",
       "      <td>5.1</td>\n",
       "      <td>3.4</td>\n",
       "      <td>6.5</td>\n",
       "      <td>8.8</td>\n",
       "      <td>6.3</td>\n",
       "      <td>4.9</td>\n",
       "    </tr>\n",
       "    <tr>\n",
       "      <th>2</th>\n",
       "      <td>4.3</td>\n",
       "      <td>6.7</td>\n",
       "      <td>6.5</td>\n",
       "      <td>4.6</td>\n",
       "      <td>7.2</td>\n",
       "      <td>7.9</td>\n",
       "    </tr>\n",
       "  </tbody>\n",
       "</table>\n",
       "</div>"
      ],
      "text/plain": [
       "     0    1    2    3    4    5\n",
       "0  5.5  6.5  7.9  5.7  6.8  8.1\n",
       "1  5.1  3.4  6.5  8.8  6.3  4.9\n",
       "2  4.3  6.7  6.5  4.6  7.2  7.9"
      ]
     },
     "execution_count": 7,
     "metadata": {},
     "output_type": "execute_result"
    }
   ],
   "source": [
    "fruitTable.T"
   ]
  },
  {
   "cell_type": "markdown",
   "metadata": {},
   "source": [
    "You can manually add column names to your data post-hoc, like this..."
   ]
  },
  {
   "cell_type": "code",
   "execution_count": 8,
   "metadata": {},
   "outputs": [],
   "source": [
    "fruitTable.columns = [\"apples\",\"oranges\",\"bananas\"]"
   ]
  },
  {
   "cell_type": "code",
   "execution_count": 9,
   "metadata": {},
   "outputs": [
    {
     "data": {
      "text/html": [
       "<div>\n",
       "<style scoped>\n",
       "    .dataframe tbody tr th:only-of-type {\n",
       "        vertical-align: middle;\n",
       "    }\n",
       "\n",
       "    .dataframe tbody tr th {\n",
       "        vertical-align: top;\n",
       "    }\n",
       "\n",
       "    .dataframe thead th {\n",
       "        text-align: right;\n",
       "    }\n",
       "</style>\n",
       "<table border=\"1\" class=\"dataframe\">\n",
       "  <thead>\n",
       "    <tr style=\"text-align: right;\">\n",
       "      <th></th>\n",
       "      <th>apples</th>\n",
       "      <th>oranges</th>\n",
       "      <th>bananas</th>\n",
       "    </tr>\n",
       "  </thead>\n",
       "  <tbody>\n",
       "    <tr>\n",
       "      <th>0</th>\n",
       "      <td>5.5</td>\n",
       "      <td>5.1</td>\n",
       "      <td>4.3</td>\n",
       "    </tr>\n",
       "    <tr>\n",
       "      <th>1</th>\n",
       "      <td>6.5</td>\n",
       "      <td>3.4</td>\n",
       "      <td>6.7</td>\n",
       "    </tr>\n",
       "    <tr>\n",
       "      <th>2</th>\n",
       "      <td>7.9</td>\n",
       "      <td>6.5</td>\n",
       "      <td>6.5</td>\n",
       "    </tr>\n",
       "    <tr>\n",
       "      <th>3</th>\n",
       "      <td>5.7</td>\n",
       "      <td>8.8</td>\n",
       "      <td>4.6</td>\n",
       "    </tr>\n",
       "    <tr>\n",
       "      <th>4</th>\n",
       "      <td>6.8</td>\n",
       "      <td>6.3</td>\n",
       "      <td>7.2</td>\n",
       "    </tr>\n",
       "    <tr>\n",
       "      <th>5</th>\n",
       "      <td>8.1</td>\n",
       "      <td>4.9</td>\n",
       "      <td>7.9</td>\n",
       "    </tr>\n",
       "  </tbody>\n",
       "</table>\n",
       "</div>"
      ],
      "text/plain": [
       "   apples  oranges  bananas\n",
       "0     5.5      5.1      4.3\n",
       "1     6.5      3.4      6.7\n",
       "2     7.9      6.5      6.5\n",
       "3     5.7      8.8      4.6\n",
       "4     6.8      6.3      7.2\n",
       "5     8.1      4.9      7.9"
      ]
     },
     "execution_count": 9,
     "metadata": {},
     "output_type": "execute_result"
    }
   ],
   "source": [
    "fruitTable"
   ]
  },
  {
   "cell_type": "markdown",
   "metadata": {},
   "source": [
    "...or you can pass row and column labels directly when you are creating the data. (Notice with the dictionary, the dataframe already automatically takes the \"key\" label as the column label.)"
   ]
  },
  {
   "cell_type": "code",
   "execution_count": 10,
   "metadata": {},
   "outputs": [
    {
     "data": {
      "text/html": [
       "<div>\n",
       "<style scoped>\n",
       "    .dataframe tbody tr th:only-of-type {\n",
       "        vertical-align: middle;\n",
       "    }\n",
       "\n",
       "    .dataframe tbody tr th {\n",
       "        vertical-align: top;\n",
       "    }\n",
       "\n",
       "    .dataframe thead th {\n",
       "        text-align: right;\n",
       "    }\n",
       "</style>\n",
       "<table border=\"1\" class=\"dataframe\">\n",
       "  <thead>\n",
       "    <tr style=\"text-align: right;\">\n",
       "      <th></th>\n",
       "      <th>quiz1</th>\n",
       "      <th>quiz2</th>\n",
       "      <th>quiz3</th>\n",
       "      <th>quiz4</th>\n",
       "      <th>quiz5</th>\n",
       "      <th>quiz6</th>\n",
       "    </tr>\n",
       "  </thead>\n",
       "  <tbody>\n",
       "    <tr>\n",
       "      <th>Sally</th>\n",
       "      <td>5.5</td>\n",
       "      <td>6.5</td>\n",
       "      <td>7.9</td>\n",
       "      <td>5.7</td>\n",
       "      <td>6.8</td>\n",
       "      <td>8.1</td>\n",
       "    </tr>\n",
       "    <tr>\n",
       "      <th>Harry</th>\n",
       "      <td>5.1</td>\n",
       "      <td>3.4</td>\n",
       "      <td>6.5</td>\n",
       "      <td>8.8</td>\n",
       "      <td>6.3</td>\n",
       "      <td>4.9</td>\n",
       "    </tr>\n",
       "    <tr>\n",
       "      <th>Sam</th>\n",
       "      <td>4.3</td>\n",
       "      <td>6.7</td>\n",
       "      <td>6.5</td>\n",
       "      <td>4.6</td>\n",
       "      <td>7.2</td>\n",
       "      <td>7.9</td>\n",
       "    </tr>\n",
       "  </tbody>\n",
       "</table>\n",
       "</div>"
      ],
      "text/plain": [
       "       quiz1  quiz2  quiz3  quiz4  quiz5  quiz6\n",
       "Sally    5.5    6.5    7.9    5.7    6.8    8.1\n",
       "Harry    5.1    3.4    6.5    8.8    6.3    4.9\n",
       "Sam      4.3    6.7    6.5    4.6    7.2    7.9"
      ]
     },
     "execution_count": 10,
     "metadata": {},
     "output_type": "execute_result"
    }
   ],
   "source": [
    "grades = np.array([[5.5,6.5,7.9,5.7,6.8,8.1],[5.1,3.4,6.5,8.8,6.3,4.9],[4.3,6.7,6.5,4.6,7.2,7.9]])\n",
    "gradeTab = pd.DataFrame(grades, index=['Sally','Harry','Sam'], columns=[\"quiz1\",\"quiz2\",\"quiz3\",\"quiz4\",\"quiz5\",\"quiz6\"])\n",
    "gradeTab"
   ]
  },
  {
   "cell_type": "markdown",
   "metadata": {},
   "source": [
    "Pandas dataframes are very useful because unlike numpy arrays, we can store different types of data in each column (or Series). So we could have one column of data with a text (e.g., key) label, and other columns with chromagram averages. Or one column with True/False data, and another with integer values. "
   ]
  },
  {
   "cell_type": "markdown",
   "metadata": {},
   "source": [
    "Once you have an existing DataFrame, it's easy to add additional columns of data, so long as they match the dimensions."
   ]
  },
  {
   "cell_type": "code",
   "execution_count": 11,
   "metadata": {},
   "outputs": [
    {
     "data": {
      "text/html": [
       "<div>\n",
       "<style scoped>\n",
       "    .dataframe tbody tr th:only-of-type {\n",
       "        vertical-align: middle;\n",
       "    }\n",
       "\n",
       "    .dataframe tbody tr th {\n",
       "        vertical-align: top;\n",
       "    }\n",
       "\n",
       "    .dataframe thead th {\n",
       "        text-align: right;\n",
       "    }\n",
       "</style>\n",
       "<table border=\"1\" class=\"dataframe\">\n",
       "  <thead>\n",
       "    <tr style=\"text-align: right;\">\n",
       "      <th></th>\n",
       "      <th>quiz1</th>\n",
       "      <th>quiz2</th>\n",
       "      <th>quiz3</th>\n",
       "      <th>quiz4</th>\n",
       "      <th>quiz5</th>\n",
       "      <th>quiz6</th>\n",
       "      <th>quiz7</th>\n",
       "    </tr>\n",
       "  </thead>\n",
       "  <tbody>\n",
       "    <tr>\n",
       "      <th>Sally</th>\n",
       "      <td>5.5</td>\n",
       "      <td>6.5</td>\n",
       "      <td>7.9</td>\n",
       "      <td>5.7</td>\n",
       "      <td>6.8</td>\n",
       "      <td>8.1</td>\n",
       "      <td>8.8</td>\n",
       "    </tr>\n",
       "    <tr>\n",
       "      <th>Harry</th>\n",
       "      <td>5.1</td>\n",
       "      <td>3.4</td>\n",
       "      <td>6.5</td>\n",
       "      <td>8.8</td>\n",
       "      <td>6.3</td>\n",
       "      <td>4.9</td>\n",
       "      <td>9.7</td>\n",
       "    </tr>\n",
       "    <tr>\n",
       "      <th>Sam</th>\n",
       "      <td>4.3</td>\n",
       "      <td>6.7</td>\n",
       "      <td>6.5</td>\n",
       "      <td>4.6</td>\n",
       "      <td>7.2</td>\n",
       "      <td>7.9</td>\n",
       "      <td>9.0</td>\n",
       "    </tr>\n",
       "  </tbody>\n",
       "</table>\n",
       "</div>"
      ],
      "text/plain": [
       "       quiz1  quiz2  quiz3  quiz4  quiz5  quiz6  quiz7\n",
       "Sally    5.5    6.5    7.9    5.7    6.8    8.1    8.8\n",
       "Harry    5.1    3.4    6.5    8.8    6.3    4.9    9.7\n",
       "Sam      4.3    6.7    6.5    4.6    7.2    7.9    9.0"
      ]
     },
     "execution_count": 11,
     "metadata": {},
     "output_type": "execute_result"
    }
   ],
   "source": [
    "quiz7=np.array([8.8,9.7,9.0])\n",
    "gradeTab['quiz7'] = quiz7\n",
    "gradeTab"
   ]
  },
  {
   "cell_type": "code",
   "execution_count": 12,
   "metadata": {},
   "outputs": [
    {
     "data": {
      "text/html": [
       "<div>\n",
       "<style scoped>\n",
       "    .dataframe tbody tr th:only-of-type {\n",
       "        vertical-align: middle;\n",
       "    }\n",
       "\n",
       "    .dataframe tbody tr th {\n",
       "        vertical-align: top;\n",
       "    }\n",
       "\n",
       "    .dataframe thead th {\n",
       "        text-align: right;\n",
       "    }\n",
       "</style>\n",
       "<table border=\"1\" class=\"dataframe\">\n",
       "  <thead>\n",
       "    <tr style=\"text-align: right;\">\n",
       "      <th></th>\n",
       "      <th>Sally</th>\n",
       "      <th>Harry</th>\n",
       "      <th>Sam</th>\n",
       "    </tr>\n",
       "  </thead>\n",
       "  <tbody>\n",
       "    <tr>\n",
       "      <th>quiz1</th>\n",
       "      <td>5.5</td>\n",
       "      <td>5.1</td>\n",
       "      <td>4.3</td>\n",
       "    </tr>\n",
       "    <tr>\n",
       "      <th>quiz2</th>\n",
       "      <td>6.5</td>\n",
       "      <td>3.4</td>\n",
       "      <td>6.7</td>\n",
       "    </tr>\n",
       "    <tr>\n",
       "      <th>quiz3</th>\n",
       "      <td>7.9</td>\n",
       "      <td>6.5</td>\n",
       "      <td>6.5</td>\n",
       "    </tr>\n",
       "    <tr>\n",
       "      <th>quiz4</th>\n",
       "      <td>5.7</td>\n",
       "      <td>8.8</td>\n",
       "      <td>4.6</td>\n",
       "    </tr>\n",
       "    <tr>\n",
       "      <th>quiz5</th>\n",
       "      <td>6.8</td>\n",
       "      <td>6.3</td>\n",
       "      <td>7.2</td>\n",
       "    </tr>\n",
       "    <tr>\n",
       "      <th>quiz6</th>\n",
       "      <td>8.1</td>\n",
       "      <td>4.9</td>\n",
       "      <td>7.9</td>\n",
       "    </tr>\n",
       "    <tr>\n",
       "      <th>quiz7</th>\n",
       "      <td>8.8</td>\n",
       "      <td>9.7</td>\n",
       "      <td>9.0</td>\n",
       "    </tr>\n",
       "  </tbody>\n",
       "</table>\n",
       "</div>"
      ],
      "text/plain": [
       "       Sally  Harry  Sam\n",
       "quiz1    5.5    5.1  4.3\n",
       "quiz2    6.5    3.4  6.7\n",
       "quiz3    7.9    6.5  6.5\n",
       "quiz4    5.7    8.8  4.6\n",
       "quiz5    6.8    6.3  7.2\n",
       "quiz6    8.1    4.9  7.9\n",
       "quiz7    8.8    9.7  9.0"
      ]
     },
     "execution_count": 12,
     "metadata": {},
     "output_type": "execute_result"
    }
   ],
   "source": [
    "gradeTab = gradeTab.transpose()\n",
    "gradeTab"
   ]
  },
  {
   "cell_type": "markdown",
   "metadata": {},
   "source": [
    "Note that normally we don't use the 'index' (or row) labels, and just leave those as automatically assigned (to a number). This is because otherwise, when adding data, if the data doesn't have the same index values, it will not work when you append to the dataframe:"
   ]
  },
  {
   "cell_type": "code",
   "execution_count": 13,
   "metadata": {},
   "outputs": [
    {
     "data": {
      "text/html": [
       "<div>\n",
       "<style scoped>\n",
       "    .dataframe tbody tr th:only-of-type {\n",
       "        vertical-align: middle;\n",
       "    }\n",
       "\n",
       "    .dataframe tbody tr th {\n",
       "        vertical-align: top;\n",
       "    }\n",
       "\n",
       "    .dataframe thead th {\n",
       "        text-align: right;\n",
       "    }\n",
       "</style>\n",
       "<table border=\"1\" class=\"dataframe\">\n",
       "  <thead>\n",
       "    <tr style=\"text-align: right;\">\n",
       "      <th></th>\n",
       "      <th>Sally</th>\n",
       "      <th>Harry</th>\n",
       "      <th>Sam</th>\n",
       "      <th>Julie</th>\n",
       "    </tr>\n",
       "  </thead>\n",
       "  <tbody>\n",
       "    <tr>\n",
       "      <th>quiz1</th>\n",
       "      <td>5.5</td>\n",
       "      <td>5.1</td>\n",
       "      <td>4.3</td>\n",
       "      <td>NaN</td>\n",
       "    </tr>\n",
       "    <tr>\n",
       "      <th>quiz2</th>\n",
       "      <td>6.5</td>\n",
       "      <td>3.4</td>\n",
       "      <td>6.7</td>\n",
       "      <td>NaN</td>\n",
       "    </tr>\n",
       "    <tr>\n",
       "      <th>quiz3</th>\n",
       "      <td>7.9</td>\n",
       "      <td>6.5</td>\n",
       "      <td>6.5</td>\n",
       "      <td>NaN</td>\n",
       "    </tr>\n",
       "    <tr>\n",
       "      <th>quiz4</th>\n",
       "      <td>5.7</td>\n",
       "      <td>8.8</td>\n",
       "      <td>4.6</td>\n",
       "      <td>NaN</td>\n",
       "    </tr>\n",
       "    <tr>\n",
       "      <th>quiz5</th>\n",
       "      <td>6.8</td>\n",
       "      <td>6.3</td>\n",
       "      <td>7.2</td>\n",
       "      <td>NaN</td>\n",
       "    </tr>\n",
       "    <tr>\n",
       "      <th>quiz6</th>\n",
       "      <td>8.1</td>\n",
       "      <td>4.9</td>\n",
       "      <td>7.9</td>\n",
       "      <td>NaN</td>\n",
       "    </tr>\n",
       "    <tr>\n",
       "      <th>quiz7</th>\n",
       "      <td>8.8</td>\n",
       "      <td>9.7</td>\n",
       "      <td>9.0</td>\n",
       "      <td>NaN</td>\n",
       "    </tr>\n",
       "  </tbody>\n",
       "</table>\n",
       "</div>"
      ],
      "text/plain": [
       "       Sally  Harry  Sam  Julie\n",
       "quiz1    5.5    5.1  4.3    NaN\n",
       "quiz2    6.5    3.4  6.7    NaN\n",
       "quiz3    7.9    6.5  6.5    NaN\n",
       "quiz4    5.7    8.8  4.6    NaN\n",
       "quiz5    6.8    6.3  7.2    NaN\n",
       "quiz6    8.1    4.9  7.9    NaN\n",
       "quiz7    8.8    9.7  9.0    NaN"
      ]
     },
     "execution_count": 13,
     "metadata": {},
     "output_type": "execute_result"
    }
   ],
   "source": [
    "Julie = pd.Series([7.8,8.7,9.0,8.9,7.9,8.3,9.7])\n",
    "gradeTab['Julie'] = Julie\n",
    "gradeTab"
   ]
  },
  {
   "cell_type": "markdown",
   "metadata": {},
   "source": [
    "However..."
   ]
  },
  {
   "cell_type": "code",
   "execution_count": 14,
   "metadata": {},
   "outputs": [
    {
     "data": {
      "text/html": [
       "<div>\n",
       "<style scoped>\n",
       "    .dataframe tbody tr th:only-of-type {\n",
       "        vertical-align: middle;\n",
       "    }\n",
       "\n",
       "    .dataframe tbody tr th {\n",
       "        vertical-align: top;\n",
       "    }\n",
       "\n",
       "    .dataframe thead th {\n",
       "        text-align: right;\n",
       "    }\n",
       "</style>\n",
       "<table border=\"1\" class=\"dataframe\">\n",
       "  <thead>\n",
       "    <tr style=\"text-align: right;\">\n",
       "      <th></th>\n",
       "      <th>Sally</th>\n",
       "      <th>Harry</th>\n",
       "      <th>Sam</th>\n",
       "      <th>Julie</th>\n",
       "    </tr>\n",
       "  </thead>\n",
       "  <tbody>\n",
       "    <tr>\n",
       "      <th>quiz1</th>\n",
       "      <td>5.5</td>\n",
       "      <td>5.1</td>\n",
       "      <td>4.3</td>\n",
       "      <td>7.8</td>\n",
       "    </tr>\n",
       "    <tr>\n",
       "      <th>quiz2</th>\n",
       "      <td>6.5</td>\n",
       "      <td>3.4</td>\n",
       "      <td>6.7</td>\n",
       "      <td>8.7</td>\n",
       "    </tr>\n",
       "    <tr>\n",
       "      <th>quiz3</th>\n",
       "      <td>7.9</td>\n",
       "      <td>6.5</td>\n",
       "      <td>6.5</td>\n",
       "      <td>9.0</td>\n",
       "    </tr>\n",
       "    <tr>\n",
       "      <th>quiz4</th>\n",
       "      <td>5.7</td>\n",
       "      <td>8.8</td>\n",
       "      <td>4.6</td>\n",
       "      <td>8.9</td>\n",
       "    </tr>\n",
       "    <tr>\n",
       "      <th>quiz5</th>\n",
       "      <td>6.8</td>\n",
       "      <td>6.3</td>\n",
       "      <td>7.2</td>\n",
       "      <td>7.9</td>\n",
       "    </tr>\n",
       "    <tr>\n",
       "      <th>quiz6</th>\n",
       "      <td>8.1</td>\n",
       "      <td>4.9</td>\n",
       "      <td>7.9</td>\n",
       "      <td>8.3</td>\n",
       "    </tr>\n",
       "    <tr>\n",
       "      <th>quiz7</th>\n",
       "      <td>8.8</td>\n",
       "      <td>9.7</td>\n",
       "      <td>9.0</td>\n",
       "      <td>9.7</td>\n",
       "    </tr>\n",
       "  </tbody>\n",
       "</table>\n",
       "</div>"
      ],
      "text/plain": [
       "       Sally  Harry  Sam  Julie\n",
       "quiz1    5.5    5.1  4.3    7.8\n",
       "quiz2    6.5    3.4  6.7    8.7\n",
       "quiz3    7.9    6.5  6.5    9.0\n",
       "quiz4    5.7    8.8  4.6    8.9\n",
       "quiz5    6.8    6.3  7.2    7.9\n",
       "quiz6    8.1    4.9  7.9    8.3\n",
       "quiz7    8.8    9.7  9.0    9.7"
      ]
     },
     "execution_count": 14,
     "metadata": {},
     "output_type": "execute_result"
    }
   ],
   "source": [
    "Julie = pd.Series([7.8,8.7,9.0,8.9,7.9,8.3,9.7], index=[\"quiz1\",\"quiz2\",\"quiz3\",\"quiz4\",\"quiz5\",\"quiz6\",\"quiz7\"])\n",
    "gradeTab['Julie'] = Julie\n",
    "gradeTab"
   ]
  },
  {
   "cell_type": "markdown",
   "metadata": {
    "slideshow": {
     "slide_type": "slide"
    }
   },
   "source": [
    "If we hadn't initially passed any index labels, they would be numbered by default automatically and then the new column would have matched the existing indices. **Moral of the story: avoid using labeled index values.**"
   ]
  },
  {
   "cell_type": "markdown",
   "metadata": {},
   "source": [
    "### Selecting data in a DataFrame\n",
    "\n",
    "I strongly recommend that you watch [this short 3m video](https://campus.datacamp.com/courses/manipulating-dataframes-with-pandas/extracting-and-transforming-data?ex=1) on indexing data in pandas dataframes. "
   ]
  },
  {
   "cell_type": "markdown",
   "metadata": {},
   "source": [
    "### Filtering data in a DataFrame\n",
    "\n",
    "This is even more important than indexing data: accessing subsets of data based on the properties of the data itself. It is important that you understand how to do this. Please watch [this 4m video](https://campus.datacamp.com/courses/manipulating-dataframes-with-pandas/extracting-and-transforming-data?ex=9) about filtering dataframe data."
   ]
  },
  {
   "cell_type": "markdown",
   "metadata": {},
   "source": [
    "### Plotting"
   ]
  },
  {
   "cell_type": "markdown",
   "metadata": {},
   "source": [
    "Pandas has its own built-in plotting library, built on matplotlib. By default, you can pass any Series or dataframe to plot:"
   ]
  },
  {
   "cell_type": "code",
   "execution_count": 15,
   "metadata": {},
   "outputs": [
    {
     "data": {
      "text/plain": [
       "<AxesSubplot: >"
      ]
     },
     "execution_count": 15,
     "metadata": {},
     "output_type": "execute_result"
    },
    {
     "data": {
      "image/png": "[encoded data removed]",
      "text/plain": [
       "<Figure size 1600x800 with 2 Axes>"
      ]
     },
     "metadata": {},
     "output_type": "display_data"
    }
   ],
   "source": [
    "quizavg = gradeTab.mean(axis=1) #axis 0 =columns, axis 1 = rows\n",
    "\n",
    "import matplotlib.pyplot as plt\n",
    "\n",
    "fig = plt.figure(figsize = (16,8))\n",
    "ax1 = fig.add_subplot(211)\n",
    "ax2 = fig.add_subplot(212)\n",
    "gradeTab.plot(ax=ax1, ylim=(0,9))\n",
    "quizavg.plot.bar()\n"
   ]
  },
  {
   "cell_type": "markdown",
   "metadata": {},
   "source": [
    "First graph shows individual student behavior, second graph allows us to see overall trends where students appear to be improving as quizzes go on through the year."
   ]
  },
  {
   "cell_type": "markdown",
   "metadata": {},
   "source": [
    "## Which `.plot` do I use?\n",
    "\n",
    "When you use `.plot` on a dataframe, you *sometimes* pass things to it and *sometimes* you don't.\n",
    "\n",
    "* `.plot` plots the index against every column\n",
    "* `.plot(x='col1')` plots against a single specific column\n",
    "* `.plot(x='col1', y='col2')` plots one specific column against another specific column"
   ]
  },
  {
   "cell_type": "code",
   "execution_count": 16,
   "metadata": {},
   "outputs": [
    {
     "data": {
      "text/plain": [
       "<AxesSubplot: >"
      ]
     },
     "execution_count": 16,
     "metadata": {},
     "output_type": "execute_result"
    },
    {
     "data": {
      "image/png": "[encoded data removed]",
      "text/plain": [
       "<Figure size 640x480 with 1 Axes>"
      ]
     },
     "metadata": {},
     "output_type": "display_data"
    }
   ],
   "source": [
    "#show Sam's performance\n",
    "gradeTab['Sam'].plot(x='Sam')"
   ]
  },
  {
   "cell_type": "code",
   "execution_count": 17,
   "metadata": {},
   "outputs": [
    {
     "data": {
      "text/plain": [
       "Text(0, 0.5, 'Sally')"
      ]
     },
     "execution_count": 17,
     "metadata": {},
     "output_type": "execute_result"
    },
    {
     "data": {
      "image/png": "[encoded data removed]",
      "text/plain": [
       "<Figure size 640x480 with 1 Axes>"
      ]
     },
     "metadata": {},
     "output_type": "display_data"
    }
   ],
   "source": [
    "#Plot Sam's performance on each quiz against Sally's\n",
    "ax = gradeTab[['Sam','Sally']].plot(x='Sam',y='Sally', style='o', legend=False)\n",
    "ax.set_ylim([4,10])\n",
    "ax.set_xlim([4,10])\n",
    "ax.set_xlabel(\"Sam\")\n",
    "ax.set_ylabel(\"Sally\")"
   ]
  },
  {
   "cell_type": "markdown",
   "metadata": {},
   "source": [
    "What we will be working towards is creating a DataFrame structure where each row represents a song clip, and each column value represents a global statistic for the clip. Features with multidimensional output (like MFCCs) will therefore require multiple columns (one column per dimension). "
   ]
  },
  {
   "cell_type": "markdown",
   "metadata": {},
   "source": [
    "More on this next time :)"
   ]
  },
  {
   "cell_type": "code",
   "execution_count": null,
   "metadata": {},
   "outputs": [],
   "source": []
  }
 ],
 "metadata": {
  "kernelspec": {
   "display_name": "AudioTechII",
   "language": "python",
   "name": "python3"
  },
  "language_info": {
   "codemirror_mode": {
    "name": "ipython",
    "version": 3
   },
   "file_extension": ".py",
   "mimetype": "text/x-python",
   "name": "python",
   "nbconvert_exporter": "python",
   "pygments_lexer": "ipython3",
   "version": "3.9.16"
  },
  "vscode": {
   "interpreter": {
    "hash": "4216617ca9a926005cf107b1f83ff5112c6a39449bd781bd80f81cda0d11296e"
   }
  }
 },
 "nbformat": 4,
 "nbformat_minor": 2
}
