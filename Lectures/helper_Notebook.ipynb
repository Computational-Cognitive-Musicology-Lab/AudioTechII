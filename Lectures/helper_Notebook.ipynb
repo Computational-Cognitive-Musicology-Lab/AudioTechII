{
 "cells": [
  {
   "cell_type": "markdown",
   "id": "3a9df76a",
   "metadata": {},
   "source": [
    "## Reading through files in a directory"
   ]
  },
  {
   "cell_type": "markdown",
   "id": "5d353db2",
   "metadata": {},
   "source": [
    "Reading in files with os.walk"
   ]
  },
  {
   "cell_type": "code",
   "execution_count": null,
   "id": "eaea0393",
   "metadata": {},
   "outputs": [],
   "source": [
    "import os\n",
    "from scipy.io.wavfile import read\n",
    "from librosa import load\n",
    "import numpy as np"
   ]
  },
  {
   "cell_type": "markdown",
   "id": "5ff096b8",
   "metadata": {},
   "source": [
    "One example of how to read in files using `os.walk`. \n",
    "You can create separate empty lists for file names and data on read-in."
   ]
  },
  {
   "cell_type": "markdown",
   "id": "49c3235d",
   "metadata": {},
   "source": [
    "Ensure that all the files have the same sampling rate. `Librosa.load` has the ability to set or convert the sampling rate (the default rate is 22050 but you can change it.) Otherwise, if you use `scipy.io.wavfile.read` and output the sample rate, ensure that the SR for all files is the same before proceeding!"
   ]
  },
  {
   "cell_type": "code",
   "execution_count": null,
   "id": "42b325b2",
   "metadata": {},
   "outputs": [],
   "source": [
    "filenames=[]#get file name store to list\n",
    "datafiles=[]#get raw data store array item to list\n",
    "\n",
    "mypath = '../uploaded_audio/keyFinding_files' #relative path to your audio files here\n",
    "\n",
    "for root, dirs, files in os.walk(mypath): \n",
    "    for file in files:\n",
    "        if file.endswith(\".wav\"):\n",
    "            (x, fs) = load(os.path.join(root, file), sr=22050, duration=30) #duration option: see below\n",
    "            datafiles.append(x)\n",
    "            filenames.append(file)"
   ]
  },
  {
   "cell_type": "markdown",
   "id": "3836db2d",
   "metadata": {},
   "source": [
    "Ensure the files are all the same length (take a 30s slice from all files). Take either the first 30s or the last 30s. You may want to compare the performance output depending on that choice. "
   ]
  },
  {
   "cell_type": "markdown",
   "id": "4a369cc7",
   "metadata": {},
   "source": [
    "If you want to quicken the process, select only the samples making up the 30s at read-in: the `Librosa.load()` function **has an optional \"duration\" parameter** that will read-in only the first N seconds of audio (*taken from the beginning.*)"
   ]
  },
  {
   "cell_type": "markdown",
   "id": "e3768ec8",
   "metadata": {},
   "source": [
    "If you don't want to risk taking just the first N seconds of audio, you may also wish to use the \"offset\" parameter, which will start reading in the audio *after* N seconds. E.g.,"
   ]
  },
  {
   "cell_type": "code",
   "execution_count": null,
   "id": "8e85d96e",
   "metadata": {},
   "outputs": [],
   "source": [
    "# Load 5 seconds of a file, starting 15 seconds in\n",
    "filename = '../uploaded_audio/BobMarley_track1.wav'\n",
    "y, sr = load(filename, offset=15.0, duration=5.0)\n",
    "y"
   ]
  }
 ],
 "metadata": {
  "kernelspec": {
   "display_name": "Python 3 (ipykernel)",
   "language": "python",
   "name": "python3"
  },
  "language_info": {
   "codemirror_mode": {
    "name": "ipython",
    "version": 3
   },
   "file_extension": ".py",
   "mimetype": "text/x-python",
   "name": "python",
   "nbconvert_exporter": "python",
   "pygments_lexer": "ipython3",
   "version": "3.9.16"
  }
 },
 "nbformat": 4,
 "nbformat_minor": 5
}
