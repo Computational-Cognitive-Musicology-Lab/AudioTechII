{
 "cells": [
  {
   "cell_type": "markdown",
   "metadata": {},
   "source": [
    "# Activity for Lesson5 - working with Sound"
   ]
  },
  {
   "cell_type": "markdown",
   "metadata": {},
   "source": [
    "## 1. Sounds of Saturn"
   ]
  },
  {
   "cell_type": "markdown",
   "metadata": {},
   "source": [
    "1a) Look at the graph of the saturn emissions. What appears to be the minimum and maximum values? What, theoretically, would be the minimum you have to scale by in order to hear all the information?"
   ]
  },
  {
   "cell_type": "markdown",
   "metadata": {},
   "source": [
    "1b) Take the \"soundsSaturn.wav\" file and read it in, and check the sampling rate. What would be the highest frequency captured at this rate?"
   ]
  },
  {
   "cell_type": "markdown",
   "metadata": {},
   "source": [
    "1c) Save the raw audio from the \"soundsSaturn.wav\" using the `read` function from scipy.io.wavfile. Using the Audio function from IPython.display, play back the raw audio with the original sampling rate (from 1b)."
   ]
  },
  {
   "cell_type": "markdown",
   "metadata": {},
   "source": [
    "Using the same Audio player, change the playback rate by double. By doing this, did you alter...\n",
    "\n",
    "1d) the total number of samples? (Y/N)"
   ]
  },
  {
   "cell_type": "markdown",
   "metadata": {},
   "source": [
    "1e) the time it takes to play back the samples? (Y/N)"
   ]
  },
  {
   "cell_type": "markdown",
   "metadata": {},
   "source": [
    "1f) the frequency content?"
   ]
  },
  {
   "cell_type": "markdown",
   "metadata": {},
   "source": [
    "1g) Has the ratio changed between the (presumed) fastest frequency and the (playback) sample rate?"
   ]
  },
  {
   "cell_type": "markdown",
   "metadata": {},
   "source": [
    "1h) Now quadruple the plaback rate and listen. What do you notice? "
   ]
  },
  {
   "cell_type": "markdown",
   "metadata": {},
   "source": [
    "## 2. Sinusoids, sampling, and playback"
   ]
  },
  {
   "cell_type": "markdown",
   "metadata": {},
   "source": [
    "2) Create a sinusoid within a comfortable range in Hz of human hearing. It should cover 2s of duration and have a reasonable sampling rate. Play it back (with LOW volume!!)"
   ]
  },
  {
   "cell_type": "markdown",
   "metadata": {},
   "source": [
    "2a) What is the lowest sampling rate you can convert the sinusoid to and still hear the sound as a sinusoid at the appropriate pitch height? (Note: the `Audio` widget will not playback anything with a rate less than 3000 in Chrome and some other browsers - this can affect your mileage with this question!!)"
   ]
  },
  {
   "cell_type": "markdown",
   "metadata": {},
   "source": [
    "2b) Create a sinusoidal signal, $s$ with a fixed sampling rate of 10kHz.  Try to play back your sinusoid under differing conditions:\n",
    "\n",
    "* change the frequency in Hz\n",
    "* change the playback speed by altering the \"rate\" parameter in Audio\n",
    "\n",
    "In doing this, try to examine for yourself the relation between the Nyquist frequency and aliasing. Make plots if it helps."
   ]
  },
  {
   "cell_type": "markdown",
   "metadata": {},
   "source": [
    "2c) Create two scenarios where you obtain an aliased frequency of approximately 200Hz (that you can (hypothetically) hear)."
   ]
  },
  {
   "cell_type": "markdown",
   "metadata": {},
   "source": [
    "## 3. Bit depth"
   ]
  },
  {
   "cell_type": "markdown",
   "metadata": {},
   "source": [
    "3a) Upload the file \"sax-phrase-short.wav\" from the \"uploaded_files\" folder. What is the data type of the numeric values?"
   ]
  },
  {
   "cell_type": "markdown",
   "metadata": {},
   "source": [
    "3b) Create a subset of the original signal from the 3000th to 4000th samples only. Plot it."
   ]
  },
  {
   "cell_type": "markdown",
   "metadata": {},
   "source": [
    "3c) What is the bit depth of this audio clip?\n",
    "\n",
    "*Hint: recall the data type*"
   ]
  },
  {
   "cell_type": "markdown",
   "metadata": {},
   "source": [
    "3d) How could you convert the bit resolution to 8-bit?\n",
    "\n",
    "*Hint: look at the range of values for numpy data types in the table from Lesson 5*"
   ]
  },
  {
   "cell_type": "markdown",
   "metadata": {},
   "source": [
    "##### Bonus) \n",
    "Write a function to scale the audio to 8-bit\n",
    "\n",
    "Test it out and play it back."
   ]
  }
 ],
 "metadata": {
  "kernelspec": {
   "display_name": "Python 3 (ipykernel)",
   "language": "python",
   "name": "python3"
  },
  "language_info": {
   "codemirror_mode": {
    "name": "ipython",
    "version": 3
   },
   "file_extension": ".py",
   "mimetype": "text/x-python",
   "name": "python",
   "nbconvert_exporter": "python",
   "pygments_lexer": "ipython3",
   "version": "3.9.16"
  }
 },
 "nbformat": 4,
 "nbformat_minor": 2
}
