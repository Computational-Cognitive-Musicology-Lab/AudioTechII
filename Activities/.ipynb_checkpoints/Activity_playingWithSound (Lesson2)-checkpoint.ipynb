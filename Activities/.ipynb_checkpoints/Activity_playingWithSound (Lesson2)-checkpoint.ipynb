{
 "cells": [
  {
   "cell_type": "markdown",
   "metadata": {},
   "source": [
    "# Activity: Playing with Sound in Python\n",
    "Copy this notebook into your own workspace. For each markdown cell, add a cell of code below to try each activity."
   ]
  },
  {
   "cell_type": "markdown",
   "metadata": {},
   "source": [
    "### Part One - basics"
   ]
  },
  {
   "cell_type": "markdown",
   "metadata": {},
   "source": [
    "Using `np.arange` (or `linspace`), `np.array`, the `read` functions from `scipy.io.wavfile`, and the `Audio` function from IPython.display ...  "
   ]
  },
  {
   "cell_type": "markdown",
   "metadata": {},
   "source": [
    "1) Import a .wav file of your choice and play it."
   ]
  },
  {
   "cell_type": "code",
   "execution_count": null,
   "metadata": {},
   "outputs": [],
   "source": [
    "# Insert a new code cell beneath each question\n",
    "# your code here"
   ]
  },
  {
   "cell_type": "markdown",
   "metadata": {},
   "source": [
    "2) read in a .wav file from the \"uploaded_audio\" directory (copied from Canvas) and save it as a variable. (Remember, \"read\" outputs two values.)  If you choose to upload your own file, note that `read` will not process 24-bit data, and that by default you will likely have stereo (i.e., multidimensional) data. "
   ]
  },
  {
   "cell_type": "markdown",
   "metadata": {},
   "source": [
    "3) figure out the length of the .wav file in samples and its duration in seconds"
   ]
  },
  {
   "cell_type": "markdown",
   "metadata": {},
   "source": [
    "4) If it's longer than 10 seconds, truncate the file so that it's only 10 seconds long. "
   ]
  },
  {
   "cell_type": "markdown",
   "metadata": {},
   "source": [
    "5) Play back your new segment"
   ]
  },
  {
   "cell_type": "markdown",
   "metadata": {},
   "source": [
    "6) make a plot of your file (or segment of your file). **Make sure the x-axis shows time in seconds**, label your axes, and provide a title."
   ]
  },
  {
   "cell_type": "markdown",
   "metadata": {},
   "source": [
    "### Part Two - data manipulation"
   ]
  },
  {
   "cell_type": "markdown",
   "metadata": {},
   "source": [
    "7) take your data and reverse all the values. Save as a new file, and play it back. "
   ]
  },
  {
   "cell_type": "markdown",
   "metadata": {},
   "source": [
    "8) Randomize all the sample values in your array such that you don't overwrite the original variable, and use each sample exactly once. Play back the first 1 second."
   ]
  },
  {
   "cell_type": "markdown",
   "metadata": {},
   "source": [
    "9) Remove every other sample from the original (un-reversed) file, and save this as a new file (write.) Play it back and compare to the original. Try different sample rates. What have you effectively done by doing this?\n",
    "\n",
    "*Hint: there are two ways to do this, one way removes values from the original and the other indexes from the original*"
   ]
  },
  {
   "cell_type": "markdown",
   "metadata": {},
   "source": [
    "10) Repeat the above, except only keep every fifth sample from the original. Play it back and compare."
   ]
  }
 ],
 "metadata": {
  "kernelspec": {
   "display_name": "Python 3 (ipykernel)",
   "language": "python",
   "name": "python3"
  },
  "language_info": {
   "codemirror_mode": {
    "name": "ipython",
    "version": 3
   },
   "file_extension": ".py",
   "mimetype": "text/x-python",
   "name": "python",
   "nbconvert_exporter": "python",
   "pygments_lexer": "ipython3",
   "version": "3.9.16"
  }
 },
 "nbformat": 4,
 "nbformat_minor": 2
}
