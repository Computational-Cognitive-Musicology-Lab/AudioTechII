{
 "cells": [
  {
   "cell_type": "code",
   "execution_count": null,
   "metadata": {},
   "outputs": [],
   "source": [
    "import numpy as np\n",
    "import matplotlib.pyplot as plt"
   ]
  },
  {
   "cell_type": "markdown",
   "metadata": {},
   "source": [
    "## Additive synthesis functions"
   ]
  },
  {
   "cell_type": "markdown",
   "metadata": {},
   "source": [
    "Import your function that you created for your Assignment #1 to generate a real sinusoid. You can import a function you defined yourself as shown below. Make sure the other notebook with the function is in the same folder (or make a copy and put one copy in the current folder)."
   ]
  },
  {
   "cell_type": "code",
   "execution_count": null,
   "metadata": {},
   "outputs": [],
   "source": [
    "#replace \"name-of-notebook\" and \"function\" with the name of your jupyter notebook and the name of your function, respectively.\n",
    "import import_ipynb\n",
    "from name-of-notebook import function\n",
    "\n",
    "#Alternatively, you can un-comment the line below to run your other notebook which will also import your function\n",
    "%run mynotebook.ipynb"
   ]
  },
  {
   "cell_type": "markdown",
   "metadata": {},
   "source": [
    "**Note: unfortunately having periods in filenames messes with the import process - you can rename your files to \"6half\" or \"6dot5\" to remedy.**"
   ]
  },
  {
   "cell_type": "markdown",
   "metadata": {},
   "source": [
    "As a reminder, here is a useful table for remembering the amplitudes of the harmonic components of the sine, sawtooth, square, and triangle waves:\n",
    "\n",
    "| Waveshape | a1 | a2 | a3| a4| a5| a6| a7 | a8 | a9 | General Rule |\n",
    "| ---: | :---: | :---: | :---: | :---: | :---: | :---: | :---: | :---: | :---: | :------------------: |\n",
    "| Sine | 1 | 0 | 0 | 0 | 0 |0 | 0 | 0 | 0 | f0 only |\n",
    "| Sawtooth | 1 | 1/2 | 1/3 | 1/4 | 1/5 | 1/6 | 1/7 | 1/8 | 1/9 | 1/$x$ |\n",
    "| Square | 1 | 0 | 1/3 | 0 | 1/5 | 0 | 1/7 | 0 | 1/9 | 1/$x$ for odd $x$ |\n",
    "| Triangle |  1 | 0 | -1/9 | 0 | 1/25 | 0 | -1/49 | 0 | 1/81 | 1/$x^2$ for odd $x$, alternating + and - | "
   ]
  },
  {
   "cell_type": "markdown",
   "metadata": {},
   "source": [
    "#### Activity 1\n",
    "1) Let's write a simple function that will make use of our genSine function to combine sinusoids. We will use the `vstack` function in numpy to create multidimensional arrays that we can easily sum over."
   ]
  },
  {
   "cell_type": "code",
   "execution_count": null,
   "metadata": {},
   "outputs": [],
   "source": [
    "def mySine(freq, Amp=1, sec=1, fs=44100, phi=0):\n",
    "    import numpy as np\n",
    "    f = freq\n",
    "    A = Amp\n",
    "    fs = fs\n",
    "    phi = 0\n",
    "    t = np.linspace(0, sec, (fs * sec))\n",
    "    tone = A * np.sin(2*np.pi * f * t + phi)\n",
    "    return(tone)"
   ]
  },
  {
   "cell_type": "code",
   "execution_count": null,
   "metadata": {},
   "outputs": [],
   "source": [
    "import matplotlib.pyplot as plt\n",
    "a = np.arange(10)\n",
    "b = map(mySine, a)\n",
    "#will return map object but still faster than loops or list comprehension\n",
    "#there is no direct array, though, so it must go map > list > array. (Still faster)\n",
    "b = np.array(list(b))\n",
    "c = b.sum(axis=0)\n",
    "plt.plot(c)"
   ]
  },
  {
   "cell_type": "code",
   "execution_count": null,
   "metadata": {},
   "outputs": [],
   "source": [
    "#Here I copy mine in manually because my genSine function was in a parallel subdirectory\n",
    "def genSine(f=None, t=1, A=1, phi=0, fs=44100):\n",
    "    \"\"\"\n",
    "    Inputs:\n",
    "    A (float) = amplitude of the sinusoid\n",
    "    f (float) = frequency of the sinusoid in Hz\n",
    "    phi (float) = initial phase of the sinusoid in radians\n",
    "    fs (float) = sampling frequency of the sinusoid in Hz\n",
    "    t (float) = duration of the sinusoid (in seconds)\n",
    "    Output:\n",
    "    The function should return a numpy array\n",
    "    x (numpy array) = The generated sinusoid (use np.cos())\n",
    "    \"\"\"\n",
    "    import numpy as np\n",
    "    A = float(A)\n",
    "    f = float(f) \n",
    "    float(phi)\n",
    "    fs = float(fs)\n",
    "    t = float(t) \n",
    "    \n",
    "    x = A * np.sin(2*np.pi*f*np.arange(0,t,1/fs) + phi)\n",
    "    return(x)"
   ]
  },
  {
   "cell_type": "markdown",
   "metadata": {},
   "source": [
    "First we might see what we want to do by manually adding together only two sinusoids created with our genSine function:"
   ]
  },
  {
   "cell_type": "code",
   "execution_count": null,
   "metadata": {},
   "outputs": [],
   "source": [
    "import numpy as np\n",
    "import matplotlib.pyplot as plt\n",
    "## create a frequency variable\n",
    "f = 20\n",
    "## make the two frequencies at f and 2*f using genSine\n",
    "a = genSine(f)\n",
    "b = genSine(2*f)\n",
    "## use 'vstack' to put the two arrays into a multidimensional array (i.e., stacked rows)\n",
    "c = np.vstack([a,b])\n",
    "## sum the object over axis 0 (rows)\n",
    "wav = c.sum(axis=0)\n",
    "## optionally plot to make sure it looks right\n",
    "plt.plot(wav)\n",
    "\n"
   ]
  },
  {
   "cell_type": "code",
   "execution_count": null,
   "metadata": {},
   "outputs": [],
   "source": [
    "# now make a function to automate this. \n",
    "#The first argument is the number of sinusoids (partials) you will combine, \n",
    "#the second is the relation of the frequencies to the original, \n",
    "#the third argument is the original (fundamental) frequency to start with\n",
    "def multiSine(number, relation, f):\n",
    "    #write your function here\n",
    "    "
   ]
  },
  {
   "cell_type": "markdown",
   "metadata": {},
   "source": [
    "2) Modify your function such that it will generate a sawtooth (or inverse sawtooth) wave. Make a default of 5 harmonics, but provide the user the ability to define the total number of harmonics present in the waveform. There should options for the user to input the frequency value and the total amount of time to your function."
   ]
  },
  {
   "cell_type": "code",
   "execution_count": null,
   "metadata": {},
   "outputs": [],
   "source": [
    "def mySaw(freq, nharm, sec):\n",
    "    \n",
    "    "
   ]
  },
  {
   "cell_type": "markdown",
   "metadata": {},
   "source": [
    "#### Activity 2\n",
    "2) By modifying your sawtooth function, write a function for generating a square wave. Keep the same defaults as above."
   ]
  },
  {
   "cell_type": "markdown",
   "metadata": {},
   "source": [
    "#### Activity 3\n",
    "3) By modifying your square wave function, write a function for generating a triangle wave. Keep the same defaults as above."
   ]
  },
  {
   "cell_type": "markdown",
   "metadata": {},
   "source": [
    "## Hints:\n",
    "### 1) indexing\n",
    "\n",
    "remember that you can index through a list in the same way you can index an array (using square brackets) like so:"
   ]
  },
  {
   "cell_type": "code",
   "execution_count": null,
   "metadata": {},
   "outputs": [],
   "source": [
    "x = [0,1,2,3,4,5,6,7,8,9]\n",
    "x[0:10:3] # the numbers between the colon represent the start, stop, by values"
   ]
  },
  {
   "cell_type": "code",
   "execution_count": null,
   "metadata": {},
   "outputs": [],
   "source": [
    "# empty values between colons are a shorthand for the defaults (beginning index, end index, and by = 1)\n",
    "x[::3] # every third value"
   ]
  },
  {
   "cell_type": "code",
   "execution_count": null,
   "metadata": {},
   "outputs": [],
   "source": [
    "import numpy as np\n",
    "y = np.arange(0,100) #array from 0 to 99\n",
    "y[::4] # every fourth value"
   ]
  },
  {
   "cell_type": "markdown",
   "metadata": {},
   "source": [
    "### 2) arrays and functions\n",
    "Recall that with vectorized operations, you don't have to iterate through an array to perform the same manipulation across all values, you just pass the array variable to the arithmetic operation:"
   ]
  },
  {
   "cell_type": "code",
   "execution_count": null,
   "metadata": {},
   "outputs": [],
   "source": [
    "y//2 \n",
    "# Note the \"//\" does floor division, meaning it will ignore any remainder and only return a quotient. \n",
    "#If you want to maintain 'int' values then use floor division"
   ]
  },
  {
   "cell_type": "code",
   "execution_count": null,
   "metadata": {},
   "outputs": [],
   "source": [
    "y/2\n",
    "# If you use the regular \"/\" for division, it will return a floating point number even when the answer is a whole number"
   ]
  },
  {
   "cell_type": "code",
   "execution_count": null,
   "metadata": {},
   "outputs": [],
   "source": [
    "y ** 2 #Exponentiate with double asterisks"
   ]
  },
  {
   "cell_type": "markdown",
   "metadata": {},
   "source": [
    "### 3) Iterating and `range`\n",
    "\n",
    "The `range` function is a handy core python function that works very similar to `arange` in numpy except that it returns a range object (very similar to a list) which is iterable.\n",
    "\n",
    "Like `np.arange` when you use range with one argument, the argument value is the stop index. When you use with two arguments, it's: start, stop. With three, it's: start, stop, by.\n",
    "\n",
    "For example, to make a range object that becomes an iterable obejct with numbers from 0 up to but not including 5:"
   ]
  },
  {
   "cell_type": "code",
   "execution_count": null,
   "metadata": {},
   "outputs": [],
   "source": [
    "my_range = range(5)\n",
    "my_range"
   ]
  },
  {
   "cell_type": "code",
   "execution_count": null,
   "metadata": {},
   "outputs": [],
   "source": [
    "my_range2 = range(2,10)\n",
    "my_range2"
   ]
  },
  {
   "cell_type": "code",
   "execution_count": null,
   "metadata": {},
   "outputs": [],
   "source": [
    "my_range3 = range(2,10,2)"
   ]
  },
  {
   "cell_type": "markdown",
   "metadata": {},
   "source": [
    "### 4) alternating negatives\n",
    "\n",
    "a negative number to an even power will be positive; a negative number to an odd power will be negative. (Note: You have to enclose negative number in parentheses before exponentiating.)"
   ]
  },
  {
   "cell_type": "code",
   "execution_count": null,
   "metadata": {},
   "outputs": [],
   "source": [
    "(-1) ** 3"
   ]
  },
  {
   "cell_type": "code",
   "execution_count": null,
   "metadata": {},
   "outputs": [],
   "source": [
    "(-1) ** 2"
   ]
  },
  {
   "cell_type": "code",
   "execution_count": null,
   "metadata": {},
   "outputs": [],
   "source": [
    "a = np.arange(1,10,1)\n",
    "(-1) ** a"
   ]
  },
  {
   "cell_type": "markdown",
   "metadata": {},
   "source": [
    "### 5) List/array conversion\n",
    "\n",
    "You can convert any list to an array or vice versa by simply wrapping the object in the `list` or `np.array` functions"
   ]
  },
  {
   "cell_type": "code",
   "execution_count": null,
   "metadata": {},
   "outputs": [],
   "source": [
    "type(x)"
   ]
  },
  {
   "cell_type": "code",
   "execution_count": null,
   "metadata": {},
   "outputs": [],
   "source": [
    "newx = np.array(x)\n",
    "type(newx)"
   ]
  },
  {
   "cell_type": "code",
   "execution_count": null,
   "metadata": {},
   "outputs": [],
   "source": [
    "renewx = list(newx)\n",
    "type(renewx)"
   ]
  },
  {
   "cell_type": "markdown",
   "metadata": {},
   "source": [
    "### 6) Parallel iteration\n",
    "\n",
    "You can iterate through two lists at the same time if the lengths of the lists are equal. You can do this by \"zipping\" the respective list items into a series of tuples. This is called **parallel iteration**\n",
    "\n",
    "Note that the \"zip\" function returns an iterator object, and it can be passed any type of iterable, such as lists, tuples, etc."
   ]
  },
  {
   "cell_type": "code",
   "execution_count": null,
   "metadata": {},
   "outputs": [],
   "source": [
    "numbers = [1, 2, 3]\n",
    "numbers2 = [4, 5, 6]\n",
    "\n",
    "zipped = zip(numbers, numbers2)\n",
    "zipped #note that the object is a \"zipped\" iterator object and you can't return it (or \"see\" it) without converting to an array or list"
   ]
  },
  {
   "cell_type": "code",
   "execution_count": null,
   "metadata": {},
   "outputs": [],
   "source": [
    "for (i,j) in zipped:\n",
    "    print(i, j)"
   ]
  },
  {
   "cell_type": "code",
   "execution_count": null,
   "metadata": {},
   "outputs": [],
   "source": [
    "a = list(zipped)\n",
    "a"
   ]
  },
  {
   "cell_type": "markdown",
   "metadata": {},
   "source": [
    "7) You can also easily convert lists of lists or series of tuples to a multidimensional array"
   ]
  },
  {
   "cell_type": "code",
   "execution_count": null,
   "metadata": {},
   "outputs": [],
   "source": [
    "b = np.array(a)\n",
    "b"
   ]
  },
  {
   "cell_type": "markdown",
   "metadata": {},
   "source": [
    "To add the arrays together element-wise, simply add them together along axis=0:"
   ]
  },
  {
   "cell_type": "code",
   "execution_count": null,
   "metadata": {},
   "outputs": [],
   "source": [
    "c = b.sum(axis=0)\n",
    "c"
   ]
  },
  {
   "cell_type": "code",
   "execution_count": null,
   "metadata": {},
   "outputs": [],
   "source": [
    "b[0] + b[1]"
   ]
  },
  {
   "cell_type": "code",
   "execution_count": null,
   "metadata": {},
   "outputs": [],
   "source": [
    "#Another example:\n",
    "f0s = [10,20,30]\n",
    "As = [1,.5,.33]\n",
    "\n",
    "def my_func(a, f0):\n",
    "    t = np.linspace(0,1,44100)\n",
    "    z = a * np.sin(2*np.pi*f0*t)\n",
    "    return z\n",
    "\n",
    "arrs = np.array([my_func(i,j) for (i,j) in zip(As, f0s)])\n",
    "#should return a list of arrays representing sines\n",
    "#sum together by adding across first axis (axis = 0):\n",
    "arrs.sum(axis=0)"
   ]
  },
  {
   "cell_type": "markdown",
   "metadata": {},
   "source": [
    "8) You can also make a range object into a list by using `list`:"
   ]
  },
  {
   "cell_type": "code",
   "execution_count": null,
   "metadata": {},
   "outputs": [],
   "source": [
    "# recall: my_range3 = range(2,10,2)\n",
    "for i in my_range3:\n",
    "    print(i)"
   ]
  },
  {
   "cell_type": "markdown",
   "metadata": {},
   "source": [
    "### 7) List comprehensions"
   ]
  },
  {
   "cell_type": "markdown",
   "metadata": {},
   "source": [
    "List comprehensions are a convenient way to run loops when the looping function is simple. This not only allows code to be condensed to one line, but actually performs the operation faster than a traditional loop. It is especially handy when you have a function where the desired output is a list.\n",
    "\n",
    "If you find yourself writing an empty list and appending items inside, there's a good chance you could write it as a list comprehension:"
   ]
  },
  {
   "cell_type": "code",
   "execution_count": null,
   "metadata": {},
   "outputs": [],
   "source": [
    "r = range(1,11)\n",
    "squares = [(1/i) for i in r] # list comprehension. \n",
    "squares"
   ]
  },
  {
   "cell_type": "code",
   "execution_count": null,
   "metadata": {},
   "outputs": [],
   "source": [
    "# The above is equivalent to the following, which is INFERIOR! Avoid doing this if possible:\n",
    "t = np.arange(1, 21, .5)\n",
    "squares = [] #empty list\n",
    "for i in t:\n",
    "    squares.append(1/i)"
   ]
  },
  {
   "cell_type": "code",
   "execution_count": null,
   "metadata": {},
   "outputs": [],
   "source": [
    "#A BETTER way, though (of course!) would be to do this:\n",
    "r = np.arange(1,11)\n",
    "1/r"
   ]
  }
 ],
 "metadata": {
  "kernelspec": {
   "display_name": "Python 3 (ipykernel)",
   "language": "python",
   "name": "python3"
  },
  "language_info": {
   "codemirror_mode": {
    "name": "ipython",
    "version": 3
   },
   "file_extension": ".py",
   "mimetype": "text/x-python",
   "name": "python",
   "nbconvert_exporter": "python",
   "pygments_lexer": "ipython3",
   "version": "3.9.16"
  }
 },
 "nbformat": 4,
 "nbformat_minor": 2
}
