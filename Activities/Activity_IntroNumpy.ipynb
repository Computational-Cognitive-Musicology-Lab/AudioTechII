{
 "cells": [
  {
   "cell_type": "markdown",
   "id": "19c6af50",
   "metadata": {},
   "source": [
    "### Practice with Numpy\n",
    "Import the numpy package:"
   ]
  },
  {
   "cell_type": "code",
   "execution_count": null,
   "id": "f45856fc",
   "metadata": {},
   "outputs": [],
   "source": []
  },
  {
   "cell_type": "markdown",
   "id": "14c70a15",
   "metadata": {},
   "source": [
    "1. Make an array from 1 to 101 using the `arange` function:"
   ]
  },
  {
   "cell_type": "code",
   "execution_count": null,
   "id": "b4d908f2",
   "metadata": {},
   "outputs": [],
   "source": []
  },
  {
   "cell_type": "markdown",
   "id": "65d5b15d",
   "metadata": {},
   "source": [
    "2. Make an array from 0 to 1 that is of length 60 using the `linspace` function:"
   ]
  },
  {
   "cell_type": "code",
   "execution_count": null,
   "id": "7fca3058",
   "metadata": {},
   "outputs": [],
   "source": []
  },
  {
   "cell_type": "markdown",
   "id": "483ef7c2",
   "metadata": {},
   "source": [
    "3. Make an array from 5 to 225 in increments of 5:"
   ]
  },
  {
   "cell_type": "code",
   "execution_count": null,
   "id": "86622180",
   "metadata": {},
   "outputs": [],
   "source": []
  },
  {
   "cell_type": "markdown",
   "id": "4204af84",
   "metadata": {},
   "source": [
    "4. Make an array from 1 to 10. Multiply each value in the array by 10 and save your output to a variable:"
   ]
  },
  {
   "cell_type": "code",
   "execution_count": null,
   "id": "60273339",
   "metadata": {},
   "outputs": [],
   "source": []
  },
  {
   "cell_type": "markdown",
   "id": "35f46d9d",
   "metadata": {},
   "source": [
    "5. Make an array of length 10 of just zeros. Save your output to a (different) variable:"
   ]
  },
  {
   "cell_type": "code",
   "execution_count": null,
   "id": "52529f3b",
   "metadata": {},
   "outputs": [],
   "source": []
  },
  {
   "cell_type": "markdown",
   "id": "bcc23889",
   "metadata": {},
   "source": [
    "6. Combine (merge) your two arrays into a single array such that the zeros are at the end:"
   ]
  },
  {
   "cell_type": "code",
   "execution_count": null,
   "id": "3cc40728",
   "metadata": {},
   "outputs": [],
   "source": []
  },
  {
   "cell_type": "markdown",
   "id": "7111c447",
   "metadata": {},
   "source": [
    "7. Reverse the values in the array from question 4 (do not save as variable):"
   ]
  },
  {
   "cell_type": "code",
   "execution_count": null,
   "id": "f4d66b46",
   "metadata": {},
   "outputs": [],
   "source": []
  },
  {
   "cell_type": "markdown",
   "id": "2a9cc824",
   "metadata": {},
   "source": [
    "8. Remove every-other value from the array in question 4 (do not save as variable):"
   ]
  },
  {
   "cell_type": "code",
   "execution_count": null,
   "id": "e8ed716c",
   "metadata": {},
   "outputs": [],
   "source": []
  },
  {
   "cell_type": "markdown",
   "id": "fb2944e6",
   "metadata": {},
   "source": [
    "9. Make an array from 1 to 20 with only even numbers. Add 1 to each value in the array. Save to a variable:"
   ]
  },
  {
   "cell_type": "code",
   "execution_count": null,
   "id": "2df0ce97",
   "metadata": {},
   "outputs": [],
   "source": []
  },
  {
   "cell_type": "markdown",
   "id": "f2cd11d3",
   "metadata": {},
   "source": [
    "10. Take the array from question 4 and add together with the odd-valued array from question 9."
   ]
  }
 ],
 "metadata": {
  "kernelspec": {
   "display_name": "Python 3 (ipykernel)",
   "language": "python",
   "name": "python3"
  },
  "language_info": {
   "codemirror_mode": {
    "name": "ipython",
    "version": 3
   },
   "file_extension": ".py",
   "mimetype": "text/x-python",
   "name": "python",
   "nbconvert_exporter": "python",
   "pygments_lexer": "ipython3",
   "version": "3.9.16"
  }
 },
 "nbformat": 4,
 "nbformat_minor": 5
}
