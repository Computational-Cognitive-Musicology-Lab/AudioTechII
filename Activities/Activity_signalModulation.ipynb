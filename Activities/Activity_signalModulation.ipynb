{
 "cells": [
  {
   "cell_type": "markdown",
   "metadata": {},
   "source": [
    "## Amplitude Modulation functions\n",
    "\n",
    "Use graphing and playback to experiment with AM synthesis. Examine the effects of different waveforms, and the relation between the carrier and modulator frequencies."
   ]
  },
  {
   "cell_type": "markdown",
   "metadata": {},
   "source": [
    "1) Using the `interact` widget, define a function that will graph the output of user-controlled AM synthesis. (See: https://ipywidgets.readthedocs.io/en/latest/examples/Using%20Interact.html)\n",
    "\n",
    "* pick a waveform to use as both the carrier (fixed), and the modulator (fixed). Note they don't have to be *the same*\n",
    "* allow the user to manipulate the frequency of both the carrier and the modulator waves"
   ]
  },
  {
   "cell_type": "code",
   "execution_count": null,
   "metadata": {},
   "outputs": [],
   "source": [
    "from ipywidgets import interact\n",
    "import ipywidgets as widgets\n",
    "\n",
    "interact(myam, car=widgets.IntSlider(min=20, max=500, step=10), mod=widgets.IntSlider(min=1, max=100, step=2))"
   ]
  },
  {
   "cell_type": "markdown",
   "metadata": {},
   "source": [
    "2) Create an amplitude modulation function that outputs a modulated carrier signal (audio).\n",
    "\n",
    "At a minimum you will need to create a carrier wave with some default shape, duration, and frequency, as well as a modulator wave with some default shape, amplitude, and frequency.\n",
    "\n",
    "Note: \n",
    "* modulator wave_shape --> should be sinusoid, square, sawtooth, or triangle (you may use `scipy.signal` library to make it easier - see: https://docs.scipy.org/doc/scipy/reference/signal.html and scroll to \"Waveforms\")  \n",
    "* time --> the time or length of the carrier signal (modulator should exactly match)\n",
    "\n",
    "You may optionally use a widget to allow a user to control your function. "
   ]
  }
 ],
 "metadata": {
  "kernelspec": {
   "display_name": "Python 3 (ipykernel)",
   "language": "python",
   "name": "python3"
  },
  "language_info": {
   "codemirror_mode": {
    "name": "ipython",
    "version": 3
   },
   "file_extension": ".py",
   "mimetype": "text/x-python",
   "name": "python",
   "nbconvert_exporter": "python",
   "pygments_lexer": "ipython3",
   "version": "3.10.10"
  }
 },
 "nbformat": 4,
 "nbformat_minor": 2
}
