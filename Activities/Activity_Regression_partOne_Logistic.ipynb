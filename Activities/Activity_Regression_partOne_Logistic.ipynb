{
 "cells": [
  {
   "cell_type": "markdown",
   "metadata": {},
   "source": [
    "## Activity: Modeling\n",
    "\n",
    "\n",
    "### Part One - Logistic Regression\n",
    "Import the .csv file called \"diabetes.csv\" and save to a pandas DataFrame. You can read about this package [here](https://www.kaggle.com/datasets/uciml/pima-indians-diabetes-database?resource=download)"
   ]
  },
  {
   "cell_type": "markdown",
   "metadata": {},
   "source": [
    "Note that you can set the printing options by adjusting with these parameters:\n",
    "\n",
    "pd.set_option('display.max_rows', 500)<br>\n",
    "pd.set_option('display.max_columns', 40)\n",
    "\n",
    "This will allow you to scroll but still avoid the \"...\" truncation."
   ]
  },
  {
   "cell_type": "code",
   "execution_count": null,
   "metadata": {},
   "outputs": [],
   "source": [
    "import pandas as pd\n",
    "# use the read_csv function from Pandas library\n",
    "\n",
    "diabetes = "
   ]
  },
  {
   "cell_type": "code",
   "execution_count": null,
   "metadata": {},
   "outputs": [],
   "source": [
    "# have a look at the first N rows of your data:\n"
   ]
  },
  {
   "cell_type": "code",
   "execution_count": null,
   "metadata": {},
   "outputs": [],
   "source": [
    "# have a look at the length of the dataframe using the built-in Python `len` function (how many rows?)\n"
   ]
  },
  {
   "cell_type": "code",
   "execution_count": null,
   "metadata": {},
   "outputs": [],
   "source": [
    "# examine the summary of your dataFrame\n"
   ]
  },
  {
   "cell_type": "code",
   "execution_count": null,
   "metadata": {},
   "outputs": [],
   "source": [
    "# compute the correlation among variables for the dataFrame\n"
   ]
  },
  {
   "cell_type": "markdown",
   "metadata": {},
   "source": [
    "#### Plotting\n",
    "\n",
    "There are two outcomes, 0 (no diabetes) and 1 (diabetes). We will want to evaluate these features to see which ones might be able to predict future outcomes given new data.\n",
    "\n",
    "Let's make several plots of the variables, split across the two outcomes (zero or one). Since these are mostly linear features, we can use boxplots for that.\n",
    "\n",
    "A boxplot (i.e., box-and-whisker plot), is a standardized way of displaying the distribution of data based on a five-number summary: minimum, first quartile (Q1), median (second quartile, Q2), third quartile (Q3), and maximum.\n",
    "\n",
    "Pandas has a built-in boxplot method."
   ]
  },
  {
   "cell_type": "code",
   "execution_count": null,
   "metadata": {},
   "outputs": [],
   "source": [
    "# df.boxplot(column='feature', by='outcome')\n",
    "\n",
    "# Look at the outcome as a function of Glucose:\n",
    "\n",
    "\n"
   ]
  },
  {
   "cell_type": "markdown",
   "metadata": {},
   "source": [
    "1) Make a single plot, with a very large figure width showing multiple boxplots across various outcomes."
   ]
  },
  {
   "cell_type": "markdown",
   "metadata": {},
   "source": [
    "2) Convert your 'Class' column of data to a single binary variable with zeros and ones. You can either do this manually or else use the `pd.get_dummies` function showed in the Lesson. Swap out or convert the existing 'Class' column for the dummy."
   ]
  },
  {
   "cell_type": "markdown",
   "metadata": {},
   "source": [
    "3) Divide your data into two subsets: the data column with the ground truth (or \"target\" variable) and the data columns with the feature data. Call the subsets 'target' and 'features' respectively.\n"
   ]
  },
  {
   "cell_type": "markdown",
   "metadata": {},
   "source": [
    "4) Split your data into training and test sets using the `sklearn` packages as per the lesson instructions. Add a 'random state' variable by setting equal to any integer value (same as 'seed' in other programs we have used this year. Ensures that your data should output the same values every time you run -- note that this does not mean it will output the same as everyone else!)"
   ]
  },
  {
   "cell_type": "markdown",
   "metadata": {},
   "source": [
    "5) Run (i.e., \"fit\") the model with `LogisticRegression` using `solver='lbfgs'` and save the output to a variable called \"model\""
   ]
  },
  {
   "cell_type": "markdown",
   "metadata": {},
   "source": [
    "6) Print your model coefficients with the method `model.coef_` There will be one for every column (or feature)"
   ]
  },
  {
   "cell_type": "markdown",
   "metadata": {},
   "source": [
    "7) Compute a confusion matrix showing your model results"
   ]
  },
  {
   "cell_type": "markdown",
   "metadata": {},
   "source": [
    "8) Print your classification reports using\n",
    "\n",
    "`from sklearn.metrics import classification_report`"
   ]
  }
 ],
 "metadata": {
  "kernelspec": {
   "display_name": "Python 3 (ipykernel)",
   "language": "python",
   "name": "python3"
  },
  "language_info": {
   "codemirror_mode": {
    "name": "ipython",
    "version": 3
   },
   "file_extension": ".py",
   "mimetype": "text/x-python",
   "name": "python",
   "nbconvert_exporter": "python",
   "pygments_lexer": "ipython3",
   "version": "3.9.16"
  }
 },
 "nbformat": 4,
 "nbformat_minor": 2
}
