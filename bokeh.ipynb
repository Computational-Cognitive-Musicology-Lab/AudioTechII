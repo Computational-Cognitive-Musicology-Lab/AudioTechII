{
 "cells": [
  {
   "cell_type": "code",
   "execution_count": 1,
   "metadata": {},
   "outputs": [],
   "source": [
    "from bokeh.layouts import column, row, gridplot\n",
    "from bokeh.models import ColumnDataSource, CustomJS, Slider\n",
    "from bokeh.plotting import figure, output_file, show\n",
    "from bokeh.util.compiler import TypeScript\n",
    "import numpy as np"
   ]
  },
  {
   "cell_type": "code",
   "execution_count": 2,
   "metadata": {},
   "outputs": [
    {
     "data": {
      "text/plain": [
       "[1, 3, 5, 7, 9]"
      ]
     },
     "execution_count": 2,
     "metadata": {},
     "output_type": "execute_result"
    }
   ],
   "source": [
    "a = [1,2,3,4,5,6,7,8,9]\n",
    "a[::2]"
   ]
  },
  {
   "cell_type": "code",
   "execution_count": 56,
   "metadata": {},
   "outputs": [],
   "source": [
    "# Define the exponential function\n",
    "def exp_func(t, a):\n",
    "    return np.exp(-a * t) * (t >= 0)\n",
    "\n",
    "# Define the unit step function\n",
    "def unit_func(t):\n",
    "    return 1.0 * (t >= 0)\n",
    "\n",
    "# Define the convolution function\n",
    "def convolve(signal, impulse, time):\n",
    "    dt = time[1] - time[0]\n",
    "    result = np.zeros_like(time)\n",
    "    for i in range(len(time)):\n",
    "        # result[i] = np.sum(signal[:i+1] * impulse[i::-1]) * dt\n",
    "        result[i] = np.sum(signal[:i+1] * impulse[i::-1][::-1]) * dt\n",
    "    return result\n",
    "\n",
    "def flip(signal, time, timeshift):\n",
    "    dt = time[1] - time[0]\n",
    "    shift = int((timeshift+2)/dt)\n",
    "    signal_remove = signal[signal!=0]\n",
    "    result = signal[shift::-1]\n",
    "    result = np.pad(result, (0, 1000-len(result)), \"constant\")\n",
    "    return result\n",
    "\n",
    "def update_data(attrname, old, new):\n",
    "    # Get the current value of the slider: current time\n",
    "    a = slider.value\n",
    "    pts = int(a*1000)\n",
    "    # Update the values of the data source\n",
    "    x_new = t[:pts]\n",
    "    y_new = y[:pts]\n",
    "    y2_source.data = dict(x=x_new, y=y_new)\n",
    "    "
   ]
  },
  {
   "cell_type": "code",
   "execution_count": 81,
   "metadata": {},
   "outputs": [],
   "source": [
    "# Generate input and impulse response signals\n",
    "# Set up the time axis\n",
    "t = np.linspace(-1, 5, 1000)\n",
    "# Set up the functions to convolve\n",
    "x = unit_func(t)\n",
    "h = exp_func(t, 1)\n",
    "hinv = flip(h, t, 4)\n",
    "y = convolve(x, h, t)\n",
    "# Set up Bokeh data sources for the signals\n",
    "x_source = ColumnDataSource(data=dict(x=t, y1=x, y2=h))\n",
    "h_source = ColumnDataSource(data=dict(x=t, y1=x, y2=hinv))\n",
    "y_source = ColumnDataSource(data=dict(x=t, y=y))\n",
    "y2_source = ColumnDataSource(data=dict(x=t[:1], y=y[:1]))\n",
    "# Set up Bokeh figures for the signals\n",
    "x_fig = figure(title='Signal', width=350, height=300, x_range=(-1, 4.01), y_range=(-1, 2))\n",
    "# x_fig.varea(x='x', y1='y1', y2='y2', source=x_source, fill_alpha=0.5)\n",
    "x_fig.line('x', 'y1', source=x_source, line_width=2, line_color='blue', legend_label=\"x(t)\")\n",
    "x_fig.line('x', 'y2', source=x_source, line_width=2, line_color='red', line_dash=\"dotted\", legend_label=\"h(t)\")\n",
    "x_fig.legend.location = \"top_left\"\n",
    "h_fig = figure(title='Shift', width=350, height=300, x_range=(-1, 4.01), y_range=(-1, 2))\n",
    "h_fig.line('x', 'y1', source=h_source, line_width=2, line_color='blue', legend_label=\"x(t-t')\")\n",
    "h_fig.line('x', 'y2', source=h_source, line_width=2, line_color='red', line_dash=\"dotted\", legend_label=\"h(t-t')\")\n",
    "h_fig.legend.location = \"top_left\"\n",
    "y_fig = figure(title='Output Signal', width=700, height=200, x_range=(-1, 4.01), y_range=(-1, 2))\n",
    "y_fig.line('x', 'y', source=y_source, line_width=2, line_color='green', line_alpha=0.2)\n",
    "y_fig.line('x', 'y', source=y2_source, line_width=2, line_color='green', legend_label=\"x(t)*h(t)\")\n",
    "y_fig.legend.location = \"top_left\"\n",
    "\n",
    "# shift_slider = Slider(title='t', value=-1, start=-1, end=5, step=0.006)\n",
    "# shift_slider.on_change('value', update_data)\n",
    "\n",
    "# Combine the figures and sliders into a Bokeh layout\n",
    "# layout = row(x_fig, h_fig, y_fig)\n",
    "layout = gridplot([[row(x_fig, h_fig)], [y_fig]])\n",
    "\n",
    "# Display the Bokeh layout in a new browser window\n",
    "output_file('convolution.html')\n",
    "show(layout)"
   ]
  },
  {
   "cell_type": "code",
   "execution_count": 2,
   "metadata": {},
   "outputs": [],
   "source": [
    "from bokeh.plotting import figure, show\n",
    "from bokeh.layouts import column\n",
    "from bokeh.models import CustomJS, Select\n",
    "import numpy as np\n",
    "\n",
    "# Create the figure for the plot\n",
    "plot = figure(width=600, height=400)\n",
    "\n",
    "# Define the x-axis range for the plot\n",
    "x = np.linspace(-5, 5, 100)\n",
    "\n",
    "# Define the initial function to be displayed\n",
    "y = np.zeros(len(x))\n",
    "\n",
    "# Create a data source for the plot\n",
    "source = {'x': x, 'y': y}\n",
    "plot.line('x', 'y', source=source)\n",
    "\n",
    "# Define the selector widget and its options\n",
    "options = ['Unit Step', 'Dirac Impulse', 'Exponential']\n",
    "selector = Select(title='Function:', value=options[0], options=options)\n",
    "\n",
    "# Define the JavaScript callback for the selector\n",
    "callback = CustomJS(args=dict(source=source, selector=selector), code=\"\"\"\n",
    "    const data = source.data;\n",
    "    const func = selector.value;\n",
    "    const x = data.x;\n",
    "    let y = data.y;\n",
    "    \n",
    "    if (func === 'Unit Step') {\n",
    "        y = x.map(val => val >= 0 ? 1 : 0);\n",
    "    } else if (func === 'Dirac Impulse') {\n",
    "        y = Array.from({length: x.length}, (_, i) => i === x.length / 2 ? 1 : 0);\n",
    "    } else if (func === 'Exponential') {\n",
    "        y = x.map(val => Math.exp(val));\n",
    "    }\n",
    "    \n",
    "    source.change.emit();\n",
    "\"\"\")\n",
    "\n",
    "# Attach the callback to the selector\n",
    "selector.js_on_change('value', callback)\n",
    "\n",
    "# Create a layout with the plot and the selector\n",
    "layout = column(plot, selector)\n",
    "\n",
    "# Display the plot and the selector\n",
    "show(layout)\n"
   ]
  },
  {
   "cell_type": "code",
   "execution_count": null,
   "metadata": {},
   "outputs": [],
   "source": [
    "bokeh serve --show test.py"
   ]
  }
 ],
 "metadata": {
  "kernelspec": {
   "display_name": "AudioTechII",
   "language": "python",
   "name": "python3"
  },
  "language_info": {
   "codemirror_mode": {
    "name": "ipython",
    "version": 3
   },
   "file_extension": ".py",
   "mimetype": "text/x-python",
   "name": "python",
   "nbconvert_exporter": "python",
   "pygments_lexer": "ipython3",
   "version": "3.9.16"
  },
  "orig_nbformat": 4
 },
 "nbformat": 4,
 "nbformat_minor": 2
}
